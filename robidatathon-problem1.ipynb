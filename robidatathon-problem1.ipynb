{
 "cells": [
  {
   "cell_type": "code",
   "execution_count": 1,
   "id": "f27349e5",
   "metadata": {
    "_cell_guid": "b1076dfc-b9ad-4769-8c92-a6c4dae69d19",
    "_uuid": "8f2839f25d086af736a60e9eeb907d3b93b6e0e5",
    "execution": {
     "iopub.execute_input": "2024-04-19T22:25:50.754462Z",
     "iopub.status.busy": "2024-04-19T22:25:50.754033Z",
     "iopub.status.idle": "2024-04-19T22:25:53.519085Z",
     "shell.execute_reply": "2024-04-19T22:25:53.517715Z"
    },
    "papermill": {
     "duration": 2.780709,
     "end_time": "2024-04-19T22:25:53.521734",
     "exception": false,
     "start_time": "2024-04-19T22:25:50.741025",
     "status": "completed"
    },
    "tags": []
   },
   "outputs": [],
   "source": [
    "import numpy as np\n",
    "import pandas as pd\n",
    "import matplotlib.pyplot as plt\n",
    "\n",
    "from sklearn.model_selection import train_test_split\n",
    "\n",
    "%matplotlib inline\n",
    "\n",
    "from tqdm import tqdm\n",
    "import string\n",
    "import statistics\n",
    "import re\n",
    "import joblib\n",
    "import random\n",
    "import statistics\n",
    "from collections import Counter\n",
    "from scipy import stats\n",
    "import os\n",
    "\n",
    "# import seaborn as sns\n",
    "from sklearn.metrics.pairwise import cosine_similarity\n",
    "import zipfile\n",
    "from wordcloud import WordCloud"
   ]
  },
  {
   "cell_type": "markdown",
   "id": "5e03ca56",
   "metadata": {
    "papermill": {
     "duration": 0.010089,
     "end_time": "2024-04-19T22:25:53.542761",
     "exception": false,
     "start_time": "2024-04-19T22:25:53.532672",
     "status": "completed"
    },
    "tags": []
   },
   "source": [
    "## Data Analysis"
   ]
  },
  {
   "cell_type": "code",
   "execution_count": 2,
   "id": "4fc6d897",
   "metadata": {
    "execution": {
     "iopub.execute_input": "2024-04-19T22:25:53.567319Z",
     "iopub.status.busy": "2024-04-19T22:25:53.566758Z",
     "iopub.status.idle": "2024-04-19T22:25:53.614112Z",
     "shell.execute_reply": "2024-04-19T22:25:53.612945Z"
    },
    "papermill": {
     "duration": 0.062851,
     "end_time": "2024-04-19T22:25:53.616737",
     "exception": false,
     "start_time": "2024-04-19T22:25:53.553886",
     "status": "completed"
    },
    "tags": []
   },
   "outputs": [
    {
     "data": {
      "text/html": [
       "<div>\n",
       "<style scoped>\n",
       "    .dataframe tbody tr th:only-of-type {\n",
       "        vertical-align: middle;\n",
       "    }\n",
       "\n",
       "    .dataframe tbody tr th {\n",
       "        vertical-align: top;\n",
       "    }\n",
       "\n",
       "    .dataframe thead th {\n",
       "        text-align: right;\n",
       "    }\n",
       "</style>\n",
       "<table border=\"1\" class=\"dataframe\">\n",
       "  <thead>\n",
       "    <tr style=\"text-align: right;\">\n",
       "      <th></th>\n",
       "      <th>BOX_ID</th>\n",
       "      <th>QUALITY</th>\n",
       "      <th>DELIVERY_OPTION</th>\n",
       "      <th>MILK</th>\n",
       "      <th>MEAT</th>\n",
       "      <th>UNIT_PRICE</th>\n",
       "    </tr>\n",
       "  </thead>\n",
       "  <tbody>\n",
       "    <tr>\n",
       "      <th>0</th>\n",
       "      <td>1</td>\n",
       "      <td>Premium</td>\n",
       "      <td>Home Delivery - CoD</td>\n",
       "      <td>0.0</td>\n",
       "      <td>2.7</td>\n",
       "      <td>9.96</td>\n",
       "    </tr>\n",
       "    <tr>\n",
       "      <th>1</th>\n",
       "      <td>2</td>\n",
       "      <td>Premium</td>\n",
       "      <td>Home Delivery - CoD</td>\n",
       "      <td>0.0</td>\n",
       "      <td>2.3</td>\n",
       "      <td>11.96</td>\n",
       "    </tr>\n",
       "    <tr>\n",
       "      <th>2</th>\n",
       "      <td>3</td>\n",
       "      <td>Premium</td>\n",
       "      <td>Home Delivery - CoD</td>\n",
       "      <td>0.0</td>\n",
       "      <td>2.4</td>\n",
       "      <td>11.96</td>\n",
       "    </tr>\n",
       "    <tr>\n",
       "      <th>3</th>\n",
       "      <td>4</td>\n",
       "      <td>Premium</td>\n",
       "      <td>Home Delivery - CoD</td>\n",
       "      <td>0.0</td>\n",
       "      <td>2.5</td>\n",
       "      <td>11.96</td>\n",
       "    </tr>\n",
       "    <tr>\n",
       "      <th>4</th>\n",
       "      <td>5</td>\n",
       "      <td>Premium</td>\n",
       "      <td>Home Delivery - CoD</td>\n",
       "      <td>0.0</td>\n",
       "      <td>2.6</td>\n",
       "      <td>11.96</td>\n",
       "    </tr>\n",
       "    <tr>\n",
       "      <th>...</th>\n",
       "      <td>...</td>\n",
       "      <td>...</td>\n",
       "      <td>...</td>\n",
       "      <td>...</td>\n",
       "      <td>...</td>\n",
       "      <td>...</td>\n",
       "    </tr>\n",
       "    <tr>\n",
       "      <th>285</th>\n",
       "      <td>286</td>\n",
       "      <td>Standard</td>\n",
       "      <td>Home Delivery - Digital Payment</td>\n",
       "      <td>0.0</td>\n",
       "      <td>4.0</td>\n",
       "      <td>15.96</td>\n",
       "    </tr>\n",
       "    <tr>\n",
       "      <th>286</th>\n",
       "      <td>287</td>\n",
       "      <td>Standard</td>\n",
       "      <td>Home Delivery - Digital Payment</td>\n",
       "      <td>0.0</td>\n",
       "      <td>2.9</td>\n",
       "      <td>15.96</td>\n",
       "    </tr>\n",
       "    <tr>\n",
       "      <th>287</th>\n",
       "      <td>288</td>\n",
       "      <td>Standard</td>\n",
       "      <td>Home Delivery - Digital Payment</td>\n",
       "      <td>0.0</td>\n",
       "      <td>3.6</td>\n",
       "      <td>15.96</td>\n",
       "    </tr>\n",
       "    <tr>\n",
       "      <th>288</th>\n",
       "      <td>289</td>\n",
       "      <td>Standard</td>\n",
       "      <td>Home Delivery - Digital Payment</td>\n",
       "      <td>0.0</td>\n",
       "      <td>4.7</td>\n",
       "      <td>15.96</td>\n",
       "    </tr>\n",
       "    <tr>\n",
       "      <th>289</th>\n",
       "      <td>290</td>\n",
       "      <td>Standard</td>\n",
       "      <td>Home Delivery - Digital Payment</td>\n",
       "      <td>12.0</td>\n",
       "      <td>1.8</td>\n",
       "      <td>19.98</td>\n",
       "    </tr>\n",
       "  </tbody>\n",
       "</table>\n",
       "<p>290 rows × 6 columns</p>\n",
       "</div>"
      ],
      "text/plain": [
       "     BOX_ID   QUALITY                  DELIVERY_OPTION  MILK  MEAT  UNIT_PRICE\n",
       "0         1   Premium              Home Delivery - CoD   0.0   2.7        9.96\n",
       "1         2   Premium              Home Delivery - CoD   0.0   2.3       11.96\n",
       "2         3   Premium              Home Delivery - CoD   0.0   2.4       11.96\n",
       "3         4   Premium              Home Delivery - CoD   0.0   2.5       11.96\n",
       "4         5   Premium              Home Delivery - CoD   0.0   2.6       11.96\n",
       "..      ...       ...                              ...   ...   ...         ...\n",
       "285     286  Standard  Home Delivery - Digital Payment   0.0   4.0       15.96\n",
       "286     287  Standard  Home Delivery - Digital Payment   0.0   2.9       15.96\n",
       "287     288  Standard  Home Delivery - Digital Payment   0.0   3.6       15.96\n",
       "288     289  Standard  Home Delivery - Digital Payment   0.0   4.7       15.96\n",
       "289     290  Standard  Home Delivery - Digital Payment  12.0   1.8       19.98\n",
       "\n",
       "[290 rows x 6 columns]"
      ]
     },
     "execution_count": 2,
     "metadata": {},
     "output_type": "execute_result"
    }
   ],
   "source": [
    "box = pd.read_csv('/kaggle/input/robi-datathon-30-qualifier-problem-1/boxes.csv')\n",
    "box"
   ]
  },
  {
   "cell_type": "code",
   "execution_count": 3,
   "id": "07db5c5f",
   "metadata": {
    "execution": {
     "iopub.execute_input": "2024-04-19T22:25:53.643281Z",
     "iopub.status.busy": "2024-04-19T22:25:53.642884Z",
     "iopub.status.idle": "2024-04-19T22:25:53.718614Z",
     "shell.execute_reply": "2024-04-19T22:25:53.717333Z"
    },
    "papermill": {
     "duration": 0.091598,
     "end_time": "2024-04-19T22:25:53.721150",
     "exception": false,
     "start_time": "2024-04-19T22:25:53.629552",
     "status": "completed"
    },
    "tags": []
   },
   "outputs": [
    {
     "data": {
      "text/html": [
       "<div>\n",
       "<style scoped>\n",
       "    .dataframe tbody tr th:only-of-type {\n",
       "        vertical-align: middle;\n",
       "    }\n",
       "\n",
       "    .dataframe tbody tr th {\n",
       "        vertical-align: top;\n",
       "    }\n",
       "\n",
       "    .dataframe thead th {\n",
       "        text-align: right;\n",
       "    }\n",
       "</style>\n",
       "<table border=\"1\" class=\"dataframe\">\n",
       "  <thead>\n",
       "    <tr style=\"text-align: right;\">\n",
       "      <th></th>\n",
       "      <th>MAGIC_KEY</th>\n",
       "    </tr>\n",
       "  </thead>\n",
       "  <tbody>\n",
       "    <tr>\n",
       "      <th>0</th>\n",
       "      <td>28D5BB06356</td>\n",
       "    </tr>\n",
       "    <tr>\n",
       "      <th>1</th>\n",
       "      <td>293BEAB4E98</td>\n",
       "    </tr>\n",
       "    <tr>\n",
       "      <th>2</th>\n",
       "      <td>2962EE8065C</td>\n",
       "    </tr>\n",
       "    <tr>\n",
       "      <th>3</th>\n",
       "      <td>2957BE29EA9</td>\n",
       "    </tr>\n",
       "    <tr>\n",
       "      <th>4</th>\n",
       "      <td>28E351A0745</td>\n",
       "    </tr>\n",
       "    <tr>\n",
       "      <th>...</th>\n",
       "      <td>...</td>\n",
       "    </tr>\n",
       "    <tr>\n",
       "      <th>58684</th>\n",
       "      <td>28FB7C09776</td>\n",
       "    </tr>\n",
       "    <tr>\n",
       "      <th>58685</th>\n",
       "      <td>28E0E3B69BF</td>\n",
       "    </tr>\n",
       "    <tr>\n",
       "      <th>58686</th>\n",
       "      <td>28D343103A7</td>\n",
       "    </tr>\n",
       "    <tr>\n",
       "      <th>58687</th>\n",
       "      <td>290B1D6D5CB</td>\n",
       "    </tr>\n",
       "    <tr>\n",
       "      <th>58688</th>\n",
       "      <td>28FF193CB94</td>\n",
       "    </tr>\n",
       "  </tbody>\n",
       "</table>\n",
       "<p>58689 rows × 1 columns</p>\n",
       "</div>"
      ],
      "text/plain": [
       "         MAGIC_KEY\n",
       "0      28D5BB06356\n",
       "1      293BEAB4E98\n",
       "2      2962EE8065C\n",
       "3      2957BE29EA9\n",
       "4      28E351A0745\n",
       "...            ...\n",
       "58684  28FB7C09776\n",
       "58685  28E0E3B69BF\n",
       "58686  28D343103A7\n",
       "58687  290B1D6D5CB\n",
       "58688  28FF193CB94\n",
       "\n",
       "[58689 rows x 1 columns]"
      ]
     },
     "execution_count": 3,
     "metadata": {},
     "output_type": "execute_result"
    }
   ],
   "source": [
    "prb1 = pd.read_csv('/kaggle/input/robi-datathon-30-qualifier-problem-1/problem 1.csv')\n",
    "prb1"
   ]
  },
  {
   "cell_type": "code",
   "execution_count": 4,
   "id": "616990a3",
   "metadata": {
    "execution": {
     "iopub.execute_input": "2024-04-19T22:25:53.747288Z",
     "iopub.status.busy": "2024-04-19T22:25:53.746026Z",
     "iopub.status.idle": "2024-04-19T22:25:57.131208Z",
     "shell.execute_reply": "2024-04-19T22:25:57.129821Z"
    },
    "papermill": {
     "duration": 3.400857,
     "end_time": "2024-04-19T22:25:57.133755",
     "exception": false,
     "start_time": "2024-04-19T22:25:53.732898",
     "status": "completed"
    },
    "tags": []
   },
   "outputs": [
    {
     "data": {
      "text/html": [
       "<div>\n",
       "<style scoped>\n",
       "    .dataframe tbody tr th:only-of-type {\n",
       "        vertical-align: middle;\n",
       "    }\n",
       "\n",
       "    .dataframe tbody tr th {\n",
       "        vertical-align: top;\n",
       "    }\n",
       "\n",
       "    .dataframe thead th {\n",
       "        text-align: right;\n",
       "    }\n",
       "</style>\n",
       "<table border=\"1\" class=\"dataframe\">\n",
       "  <thead>\n",
       "    <tr style=\"text-align: right;\">\n",
       "      <th></th>\n",
       "      <th>PURCHASE_DATE</th>\n",
       "      <th>MAGIC_KEY</th>\n",
       "      <th>BOX_ID</th>\n",
       "      <th>BOX_COUNT</th>\n",
       "    </tr>\n",
       "  </thead>\n",
       "  <tbody>\n",
       "    <tr>\n",
       "      <th>0</th>\n",
       "      <td>1/2/2019</td>\n",
       "      <td>2CED678A247</td>\n",
       "      <td>12.0</td>\n",
       "      <td>1.0</td>\n",
       "    </tr>\n",
       "    <tr>\n",
       "      <th>1</th>\n",
       "      <td>1/2/2019</td>\n",
       "      <td>2BF58D91BA1</td>\n",
       "      <td>12.0</td>\n",
       "      <td>1.0</td>\n",
       "    </tr>\n",
       "    <tr>\n",
       "      <th>2</th>\n",
       "      <td>1/2/2019</td>\n",
       "      <td>2C15B86534E</td>\n",
       "      <td>99.0</td>\n",
       "      <td>1.0</td>\n",
       "    </tr>\n",
       "    <tr>\n",
       "      <th>3</th>\n",
       "      <td>1/2/2019</td>\n",
       "      <td>2C32D9A859A</td>\n",
       "      <td>6.0</td>\n",
       "      <td>1.0</td>\n",
       "    </tr>\n",
       "    <tr>\n",
       "      <th>4</th>\n",
       "      <td>1/2/2019</td>\n",
       "      <td>2C7A55404D1</td>\n",
       "      <td>4.0</td>\n",
       "      <td>1.0</td>\n",
       "    </tr>\n",
       "    <tr>\n",
       "      <th>...</th>\n",
       "      <td>...</td>\n",
       "      <td>...</td>\n",
       "      <td>...</td>\n",
       "      <td>...</td>\n",
       "    </tr>\n",
       "    <tr>\n",
       "      <th>2455859</th>\n",
       "      <td>28/10/2018</td>\n",
       "      <td>2BD992B5538</td>\n",
       "      <td>12.0</td>\n",
       "      <td>1.0</td>\n",
       "    </tr>\n",
       "    <tr>\n",
       "      <th>2455860</th>\n",
       "      <td>28/10/2018</td>\n",
       "      <td>2C97CD72233</td>\n",
       "      <td>17.0</td>\n",
       "      <td>1.0</td>\n",
       "    </tr>\n",
       "    <tr>\n",
       "      <th>2455861</th>\n",
       "      <td>28/10/2018</td>\n",
       "      <td>2C91C61D372</td>\n",
       "      <td>40.0</td>\n",
       "      <td>1.0</td>\n",
       "    </tr>\n",
       "    <tr>\n",
       "      <th>2455862</th>\n",
       "      <td>28/10/2018</td>\n",
       "      <td>2CD70CFC4E3</td>\n",
       "      <td>51.0</td>\n",
       "      <td>1.0</td>\n",
       "    </tr>\n",
       "    <tr>\n",
       "      <th>2455863</th>\n",
       "      <td>28/10/2018</td>\n",
       "      <td>2C4792A5B84</td>\n",
       "      <td>4.0</td>\n",
       "      <td>1.0</td>\n",
       "    </tr>\n",
       "  </tbody>\n",
       "</table>\n",
       "<p>2455864 rows × 4 columns</p>\n",
       "</div>"
      ],
      "text/plain": [
       "        PURCHASE_DATE    MAGIC_KEY  BOX_ID  BOX_COUNT\n",
       "0            1/2/2019  2CED678A247    12.0        1.0\n",
       "1            1/2/2019  2BF58D91BA1    12.0        1.0\n",
       "2            1/2/2019  2C15B86534E    99.0        1.0\n",
       "3            1/2/2019  2C32D9A859A     6.0        1.0\n",
       "4            1/2/2019  2C7A55404D1     4.0        1.0\n",
       "...               ...          ...     ...        ...\n",
       "2455859    28/10/2018  2BD992B5538    12.0        1.0\n",
       "2455860    28/10/2018  2C97CD72233    17.0        1.0\n",
       "2455861    28/10/2018  2C91C61D372    40.0        1.0\n",
       "2455862    28/10/2018  2CD70CFC4E3    51.0        1.0\n",
       "2455863    28/10/2018  2C4792A5B84     4.0        1.0\n",
       "\n",
       "[2455864 rows x 4 columns]"
      ]
     },
     "execution_count": 4,
     "metadata": {},
     "output_type": "execute_result"
    }
   ],
   "source": [
    "purchase = pd.read_csv('/kaggle/input/robi-datathon-30-qualifier-problem-1/purchase.csv')\n",
    "purchase"
   ]
  },
  {
   "cell_type": "code",
   "execution_count": 5,
   "id": "a760b80c",
   "metadata": {
    "execution": {
     "iopub.execute_input": "2024-04-19T22:25:57.160544Z",
     "iopub.status.busy": "2024-04-19T22:25:57.159605Z",
     "iopub.status.idle": "2024-04-19T22:25:58.173505Z",
     "shell.execute_reply": "2024-04-19T22:25:58.172068Z"
    },
    "papermill": {
     "duration": 1.03007,
     "end_time": "2024-04-19T22:25:58.176106",
     "exception": false,
     "start_time": "2024-04-19T22:25:57.146036",
     "status": "completed"
    },
    "tags": []
   },
   "outputs": [
    {
     "name": "stdout",
     "output_type": "stream",
     "text": [
      "291\n"
     ]
    },
    {
     "data": {
      "text/plain": [
       "1274108"
      ]
     },
     "execution_count": 5,
     "metadata": {},
     "output_type": "execute_result"
    }
   ],
   "source": [
    "print(purchase.BOX_ID.nunique())\n",
    "purchase.MAGIC_KEY.nunique()"
   ]
  },
  {
   "cell_type": "code",
   "execution_count": 6,
   "id": "6051fdf5",
   "metadata": {
    "execution": {
     "iopub.execute_input": "2024-04-19T22:25:58.202164Z",
     "iopub.status.busy": "2024-04-19T22:25:58.201705Z",
     "iopub.status.idle": "2024-04-19T22:25:59.138508Z",
     "shell.execute_reply": "2024-04-19T22:25:59.136858Z"
    },
    "papermill": {
     "duration": 0.953024,
     "end_time": "2024-04-19T22:25:59.141308",
     "exception": false,
     "start_time": "2024-04-19T22:25:58.188284",
     "status": "completed"
    },
    "tags": []
   },
   "outputs": [
    {
     "data": {
      "text/plain": [
       "0.5188023441037451"
      ]
     },
     "execution_count": 6,
     "metadata": {},
     "output_type": "execute_result"
    }
   ],
   "source": [
    "purchase.MAGIC_KEY.nunique()/len(purchase)"
   ]
  },
  {
   "cell_type": "code",
   "execution_count": 7,
   "id": "9b48e40d",
   "metadata": {
    "execution": {
     "iopub.execute_input": "2024-04-19T22:25:59.167268Z",
     "iopub.status.busy": "2024-04-19T22:25:59.166857Z",
     "iopub.status.idle": "2024-04-19T22:25:59.241949Z",
     "shell.execute_reply": "2024-04-19T22:25:59.240951Z"
    },
    "papermill": {
     "duration": 0.091077,
     "end_time": "2024-04-19T22:25:59.244347",
     "exception": false,
     "start_time": "2024-04-19T22:25:59.153270",
     "status": "completed"
    },
    "tags": []
   },
   "outputs": [
    {
     "data": {
      "text/html": [
       "<div>\n",
       "<style scoped>\n",
       "    .dataframe tbody tr th:only-of-type {\n",
       "        vertical-align: middle;\n",
       "    }\n",
       "\n",
       "    .dataframe tbody tr th {\n",
       "        vertical-align: top;\n",
       "    }\n",
       "\n",
       "    .dataframe thead th {\n",
       "        text-align: right;\n",
       "    }\n",
       "</style>\n",
       "<table border=\"1\" class=\"dataframe\">\n",
       "  <thead>\n",
       "    <tr style=\"text-align: right;\">\n",
       "      <th></th>\n",
       "      <th>MAGIC_KEY</th>\n",
       "      <th>PURCHASE</th>\n",
       "    </tr>\n",
       "  </thead>\n",
       "  <tbody>\n",
       "    <tr>\n",
       "      <th>0</th>\n",
       "      <td>28D5BB06356</td>\n",
       "      <td>Y</td>\n",
       "    </tr>\n",
       "    <tr>\n",
       "      <th>1</th>\n",
       "      <td>293BEAB4E98</td>\n",
       "      <td>Y</td>\n",
       "    </tr>\n",
       "    <tr>\n",
       "      <th>2</th>\n",
       "      <td>2962EE8065C</td>\n",
       "      <td>Y</td>\n",
       "    </tr>\n",
       "    <tr>\n",
       "      <th>3</th>\n",
       "      <td>2957BE29EA9</td>\n",
       "      <td>Y</td>\n",
       "    </tr>\n",
       "    <tr>\n",
       "      <th>4</th>\n",
       "      <td>28E351A0745</td>\n",
       "      <td>Y</td>\n",
       "    </tr>\n",
       "    <tr>\n",
       "      <th>...</th>\n",
       "      <td>...</td>\n",
       "      <td>...</td>\n",
       "    </tr>\n",
       "    <tr>\n",
       "      <th>58684</th>\n",
       "      <td>28FB7C09776</td>\n",
       "      <td>Y</td>\n",
       "    </tr>\n",
       "    <tr>\n",
       "      <th>58685</th>\n",
       "      <td>28E0E3B69BF</td>\n",
       "      <td>Y</td>\n",
       "    </tr>\n",
       "    <tr>\n",
       "      <th>58686</th>\n",
       "      <td>28D343103A7</td>\n",
       "      <td>Y</td>\n",
       "    </tr>\n",
       "    <tr>\n",
       "      <th>58687</th>\n",
       "      <td>290B1D6D5CB</td>\n",
       "      <td>Y</td>\n",
       "    </tr>\n",
       "    <tr>\n",
       "      <th>58688</th>\n",
       "      <td>28FF193CB94</td>\n",
       "      <td>Y</td>\n",
       "    </tr>\n",
       "  </tbody>\n",
       "</table>\n",
       "<p>58689 rows × 2 columns</p>\n",
       "</div>"
      ],
      "text/plain": [
       "         MAGIC_KEY PURCHASE\n",
       "0      28D5BB06356        Y\n",
       "1      293BEAB4E98        Y\n",
       "2      2962EE8065C        Y\n",
       "3      2957BE29EA9        Y\n",
       "4      28E351A0745        Y\n",
       "...            ...      ...\n",
       "58684  28FB7C09776        Y\n",
       "58685  28E0E3B69BF        Y\n",
       "58686  28D343103A7        Y\n",
       "58687  290B1D6D5CB        Y\n",
       "58688  28FF193CB94        Y\n",
       "\n",
       "[58689 rows x 2 columns]"
      ]
     },
     "execution_count": 7,
     "metadata": {},
     "output_type": "execute_result"
    }
   ],
   "source": [
    "sub = pd.read_csv('/kaggle/input/robi-datathon-30-qualifier-problem-1/sample submission 1.csv')\n",
    "sub"
   ]
  },
  {
   "cell_type": "code",
   "execution_count": 8,
   "id": "0d8f8d51",
   "metadata": {
    "execution": {
     "iopub.execute_input": "2024-04-19T22:25:59.270685Z",
     "iopub.status.busy": "2024-04-19T22:25:59.269947Z",
     "iopub.status.idle": "2024-04-19T22:25:59.276435Z",
     "shell.execute_reply": "2024-04-19T22:25:59.275453Z"
    },
    "papermill": {
     "duration": 0.023169,
     "end_time": "2024-04-19T22:25:59.279320",
     "exception": false,
     "start_time": "2024-04-19T22:25:59.256151",
     "status": "completed"
    },
    "tags": []
   },
   "outputs": [],
   "source": [
    "box.rename(columns=lambda x: x.lower(), inplace=True)\n",
    "purchase.rename(columns=lambda x: x.lower(), inplace=True)"
   ]
  },
  {
   "cell_type": "code",
   "execution_count": 9,
   "id": "eb72db1f",
   "metadata": {
    "execution": {
     "iopub.execute_input": "2024-04-19T22:25:59.306551Z",
     "iopub.status.busy": "2024-04-19T22:25:59.305304Z",
     "iopub.status.idle": "2024-04-19T22:25:59.487529Z",
     "shell.execute_reply": "2024-04-19T22:25:59.485927Z"
    },
    "papermill": {
     "duration": 0.198737,
     "end_time": "2024-04-19T22:25:59.490420",
     "exception": false,
     "start_time": "2024-04-19T22:25:59.291683",
     "status": "completed"
    },
    "tags": []
   },
   "outputs": [
    {
     "name": "stdout",
     "output_type": "stream",
     "text": [
      "    box_id  quality      delivery_option  milk  meat  unit_price\n",
      "17      18  Premium  Home Delivery - CoD  10.0   2.7       12.98\n",
      "\n",
      "       purchase_date    magic_key  box_id  box_count\n",
      "983760     24/1/2019  2C7512FEFFA   119.0        1.0\n"
     ]
    }
   ],
   "source": [
    "print(box.sample())\n",
    "print()\n",
    "print(purchase.sample())"
   ]
  },
  {
   "cell_type": "code",
   "execution_count": 10,
   "id": "5dc147a8",
   "metadata": {
    "execution": {
     "iopub.execute_input": "2024-04-19T22:25:59.515863Z",
     "iopub.status.busy": "2024-04-19T22:25:59.515431Z",
     "iopub.status.idle": "2024-04-19T22:26:00.261892Z",
     "shell.execute_reply": "2024-04-19T22:26:00.260570Z"
    },
    "papermill": {
     "duration": 0.762284,
     "end_time": "2024-04-19T22:26:00.264679",
     "exception": false,
     "start_time": "2024-04-19T22:25:59.502395",
     "status": "completed"
    },
    "tags": []
   },
   "outputs": [],
   "source": [
    "purchase.isna().sum()\n",
    "purchase.dropna(inplace=True)"
   ]
  },
  {
   "cell_type": "code",
   "execution_count": 11,
   "id": "18b7cf06",
   "metadata": {
    "execution": {
     "iopub.execute_input": "2024-04-19T22:26:00.290645Z",
     "iopub.status.busy": "2024-04-19T22:26:00.289965Z",
     "iopub.status.idle": "2024-04-19T22:26:00.296198Z",
     "shell.execute_reply": "2024-04-19T22:26:00.294832Z"
    },
    "papermill": {
     "duration": 0.02182,
     "end_time": "2024-04-19T22:26:00.298258",
     "exception": false,
     "start_time": "2024-04-19T22:26:00.276438",
     "status": "completed"
    },
    "tags": []
   },
   "outputs": [
    {
     "name": "stdout",
     "output_type": "stream",
     "text": [
      "(290, 6)\n",
      "\n",
      "(2455817, 4)\n"
     ]
    }
   ],
   "source": [
    "print(box.shape)\n",
    "print()\n",
    "print(purchase.shape)"
   ]
  },
  {
   "cell_type": "code",
   "execution_count": 12,
   "id": "93339e46",
   "metadata": {
    "execution": {
     "iopub.execute_input": "2024-04-19T22:26:00.324763Z",
     "iopub.status.busy": "2024-04-19T22:26:00.324339Z",
     "iopub.status.idle": "2024-04-19T22:26:00.731470Z",
     "shell.execute_reply": "2024-04-19T22:26:00.730345Z"
    },
    "papermill": {
     "duration": 0.423518,
     "end_time": "2024-04-19T22:26:00.733960",
     "exception": false,
     "start_time": "2024-04-19T22:26:00.310442",
     "status": "completed"
    },
    "tags": []
   },
   "outputs": [
    {
     "data": {
      "text/plain": [
       "<Axes: xlabel='delivery_option'>"
      ]
     },
     "execution_count": 12,
     "metadata": {},
     "output_type": "execute_result"
    },
    {
     "data": {
      "image/png": "[encoded data removed]",
      "text/plain": [
       "<Figure size 640x480 with 1 Axes>"
      ]
     },
     "metadata": {},
     "output_type": "display_data"
    }
   ],
   "source": [
    "box.delivery_option.value_counts().plot(kind='bar', cmap='cividis')"
   ]
  },
  {
   "cell_type": "code",
   "execution_count": 13,
   "id": "eb5da162",
   "metadata": {
    "execution": {
     "iopub.execute_input": "2024-04-19T22:26:00.761045Z",
     "iopub.status.busy": "2024-04-19T22:26:00.760598Z",
     "iopub.status.idle": "2024-04-19T22:26:00.768319Z",
     "shell.execute_reply": "2024-04-19T22:26:00.767026Z"
    },
    "papermill": {
     "duration": 0.024651,
     "end_time": "2024-04-19T22:26:00.770925",
     "exception": false,
     "start_time": "2024-04-19T22:26:00.746274",
     "status": "completed"
    },
    "tags": []
   },
   "outputs": [
    {
     "name": "stdout",
     "output_type": "stream",
     "text": [
      "box_id               int64\n",
      "quality             object\n",
      "delivery_option     object\n",
      "milk               float64\n",
      "meat               float64\n",
      "unit_price         float64\n",
      "dtype: object\n",
      "\n",
      "purchase_date     object\n",
      "magic_key         object\n",
      "box_id           float64\n",
      "box_count        float64\n",
      "dtype: object\n"
     ]
    }
   ],
   "source": [
    "print(box.dtypes)\n",
    "print()\n",
    "print(purchase.dtypes)"
   ]
  },
  {
   "cell_type": "code",
   "execution_count": 14,
   "id": "9325a0b7",
   "metadata": {
    "execution": {
     "iopub.execute_input": "2024-04-19T22:26:00.797587Z",
     "iopub.status.busy": "2024-04-19T22:26:00.797174Z",
     "iopub.status.idle": "2024-04-19T22:26:00.825802Z",
     "shell.execute_reply": "2024-04-19T22:26:00.824645Z"
    },
    "papermill": {
     "duration": 0.045084,
     "end_time": "2024-04-19T22:26:00.828402",
     "exception": false,
     "start_time": "2024-04-19T22:26:00.783318",
     "status": "completed"
    },
    "tags": []
   },
   "outputs": [],
   "source": [
    "purchase['box_id'] = purchase['box_id'].astype(int)"
   ]
  },
  {
   "cell_type": "code",
   "execution_count": 15,
   "id": "ec3361fa",
   "metadata": {
    "execution": {
     "iopub.execute_input": "2024-04-19T22:26:00.855845Z",
     "iopub.status.busy": "2024-04-19T22:26:00.855423Z",
     "iopub.status.idle": "2024-04-19T22:26:03.296191Z",
     "shell.execute_reply": "2024-04-19T22:26:03.294834Z"
    },
    "papermill": {
     "duration": 2.45747,
     "end_time": "2024-04-19T22:26:03.298810",
     "exception": false,
     "start_time": "2024-04-19T22:26:00.841340",
     "status": "completed"
    },
    "tags": []
   },
   "outputs": [
    {
     "data": {
      "image/png": "[encoded data removed]",
      "text/plain": [
       "<Figure size 640x480 with 1 Axes>"
      ]
     },
     "metadata": {},
     "output_type": "display_data"
    }
   ],
   "source": [
    "purchase.box_id.value_counts().plot(kind='bar', cmap='cividis');"
   ]
  },
  {
   "cell_type": "code",
   "execution_count": 16,
   "id": "65a0794c",
   "metadata": {
    "execution": {
     "iopub.execute_input": "2024-04-19T22:26:03.329684Z",
     "iopub.status.busy": "2024-04-19T22:26:03.329270Z",
     "iopub.status.idle": "2024-04-19T22:26:04.725343Z",
     "shell.execute_reply": "2024-04-19T22:26:04.723581Z"
    },
    "papermill": {
     "duration": 1.415141,
     "end_time": "2024-04-19T22:26:04.728321",
     "exception": false,
     "start_time": "2024-04-19T22:26:03.313180",
     "status": "completed"
    },
    "tags": []
   },
   "outputs": [],
   "source": [
    "merged_df = pd.merge(box, purchase, on='box_id', how='left')"
   ]
  },
  {
   "cell_type": "code",
   "execution_count": 17,
   "id": "324dc2d9",
   "metadata": {
    "execution": {
     "iopub.execute_input": "2024-04-19T22:26:04.760093Z",
     "iopub.status.busy": "2024-04-19T22:26:04.759573Z",
     "iopub.status.idle": "2024-04-19T22:26:04.785454Z",
     "shell.execute_reply": "2024-04-19T22:26:04.784390Z"
    },
    "papermill": {
     "duration": 0.046347,
     "end_time": "2024-04-19T22:26:04.788499",
     "exception": false,
     "start_time": "2024-04-19T22:26:04.742152",
     "status": "completed"
    },
    "tags": []
   },
   "outputs": [
    {
     "data": {
      "text/html": [
       "<div>\n",
       "<style scoped>\n",
       "    .dataframe tbody tr th:only-of-type {\n",
       "        vertical-align: middle;\n",
       "    }\n",
       "\n",
       "    .dataframe tbody tr th {\n",
       "        vertical-align: top;\n",
       "    }\n",
       "\n",
       "    .dataframe thead th {\n",
       "        text-align: right;\n",
       "    }\n",
       "</style>\n",
       "<table border=\"1\" class=\"dataframe\">\n",
       "  <thead>\n",
       "    <tr style=\"text-align: right;\">\n",
       "      <th></th>\n",
       "      <th>box_id</th>\n",
       "      <th>quality</th>\n",
       "      <th>delivery_option</th>\n",
       "      <th>milk</th>\n",
       "      <th>meat</th>\n",
       "      <th>unit_price</th>\n",
       "      <th>purchase_date</th>\n",
       "      <th>magic_key</th>\n",
       "      <th>box_count</th>\n",
       "    </tr>\n",
       "  </thead>\n",
       "  <tbody>\n",
       "    <tr>\n",
       "      <th>0</th>\n",
       "      <td>1</td>\n",
       "      <td>Premium</td>\n",
       "      <td>Home Delivery - CoD</td>\n",
       "      <td>0.0</td>\n",
       "      <td>2.7</td>\n",
       "      <td>9.96</td>\n",
       "      <td>4/2/2019</td>\n",
       "      <td>2C88D36D1FC</td>\n",
       "      <td>1.0</td>\n",
       "    </tr>\n",
       "    <tr>\n",
       "      <th>1</th>\n",
       "      <td>2</td>\n",
       "      <td>Premium</td>\n",
       "      <td>Home Delivery - CoD</td>\n",
       "      <td>0.0</td>\n",
       "      <td>2.3</td>\n",
       "      <td>11.96</td>\n",
       "      <td>2/1/2019</td>\n",
       "      <td>2BF011BDB38</td>\n",
       "      <td>1.0</td>\n",
       "    </tr>\n",
       "    <tr>\n",
       "      <th>2</th>\n",
       "      <td>2</td>\n",
       "      <td>Premium</td>\n",
       "      <td>Home Delivery - CoD</td>\n",
       "      <td>0.0</td>\n",
       "      <td>2.3</td>\n",
       "      <td>11.96</td>\n",
       "      <td>2/1/2019</td>\n",
       "      <td>2CA0EE8F2B3</td>\n",
       "      <td>1.0</td>\n",
       "    </tr>\n",
       "    <tr>\n",
       "      <th>3</th>\n",
       "      <td>2</td>\n",
       "      <td>Premium</td>\n",
       "      <td>Home Delivery - CoD</td>\n",
       "      <td>0.0</td>\n",
       "      <td>2.3</td>\n",
       "      <td>11.96</td>\n",
       "      <td>2/1/2019</td>\n",
       "      <td>2C623730B09</td>\n",
       "      <td>1.0</td>\n",
       "    </tr>\n",
       "    <tr>\n",
       "      <th>4</th>\n",
       "      <td>2</td>\n",
       "      <td>Premium</td>\n",
       "      <td>Home Delivery - CoD</td>\n",
       "      <td>0.0</td>\n",
       "      <td>2.3</td>\n",
       "      <td>11.96</td>\n",
       "      <td>2/1/2019</td>\n",
       "      <td>2CA6CE1054F</td>\n",
       "      <td>1.0</td>\n",
       "    </tr>\n",
       "    <tr>\n",
       "      <th>...</th>\n",
       "      <td>...</td>\n",
       "      <td>...</td>\n",
       "      <td>...</td>\n",
       "      <td>...</td>\n",
       "      <td>...</td>\n",
       "      <td>...</td>\n",
       "      <td>...</td>\n",
       "      <td>...</td>\n",
       "      <td>...</td>\n",
       "    </tr>\n",
       "    <tr>\n",
       "      <th>2455795</th>\n",
       "      <td>289</td>\n",
       "      <td>Standard</td>\n",
       "      <td>Home Delivery - Digital Payment</td>\n",
       "      <td>0.0</td>\n",
       "      <td>4.7</td>\n",
       "      <td>15.96</td>\n",
       "      <td>18/2/2019</td>\n",
       "      <td>29149CE828C</td>\n",
       "      <td>1.0</td>\n",
       "    </tr>\n",
       "    <tr>\n",
       "      <th>2455796</th>\n",
       "      <td>290</td>\n",
       "      <td>Standard</td>\n",
       "      <td>Home Delivery - Digital Payment</td>\n",
       "      <td>12.0</td>\n",
       "      <td>1.8</td>\n",
       "      <td>19.98</td>\n",
       "      <td>20/2/2019</td>\n",
       "      <td>28FF7857D43</td>\n",
       "      <td>1.0</td>\n",
       "    </tr>\n",
       "    <tr>\n",
       "      <th>2455797</th>\n",
       "      <td>290</td>\n",
       "      <td>Standard</td>\n",
       "      <td>Home Delivery - Digital Payment</td>\n",
       "      <td>12.0</td>\n",
       "      <td>1.8</td>\n",
       "      <td>19.98</td>\n",
       "      <td>5/1/2019</td>\n",
       "      <td>28F675D813E</td>\n",
       "      <td>1.0</td>\n",
       "    </tr>\n",
       "    <tr>\n",
       "      <th>2455798</th>\n",
       "      <td>290</td>\n",
       "      <td>Standard</td>\n",
       "      <td>Home Delivery - Digital Payment</td>\n",
       "      <td>12.0</td>\n",
       "      <td>1.8</td>\n",
       "      <td>19.98</td>\n",
       "      <td>11/1/2019</td>\n",
       "      <td>29D99F43873</td>\n",
       "      <td>1.0</td>\n",
       "    </tr>\n",
       "    <tr>\n",
       "      <th>2455799</th>\n",
       "      <td>290</td>\n",
       "      <td>Standard</td>\n",
       "      <td>Home Delivery - Digital Payment</td>\n",
       "      <td>12.0</td>\n",
       "      <td>1.8</td>\n",
       "      <td>19.98</td>\n",
       "      <td>19/11/2018</td>\n",
       "      <td>28DCF9E5BB0</td>\n",
       "      <td>1.0</td>\n",
       "    </tr>\n",
       "  </tbody>\n",
       "</table>\n",
       "<p>2455800 rows × 9 columns</p>\n",
       "</div>"
      ],
      "text/plain": [
       "         box_id   quality                  delivery_option  milk  meat  \\\n",
       "0             1   Premium              Home Delivery - CoD   0.0   2.7   \n",
       "1             2   Premium              Home Delivery - CoD   0.0   2.3   \n",
       "2             2   Premium              Home Delivery - CoD   0.0   2.3   \n",
       "3             2   Premium              Home Delivery - CoD   0.0   2.3   \n",
       "4             2   Premium              Home Delivery - CoD   0.0   2.3   \n",
       "...         ...       ...                              ...   ...   ...   \n",
       "2455795     289  Standard  Home Delivery - Digital Payment   0.0   4.7   \n",
       "2455796     290  Standard  Home Delivery - Digital Payment  12.0   1.8   \n",
       "2455797     290  Standard  Home Delivery - Digital Payment  12.0   1.8   \n",
       "2455798     290  Standard  Home Delivery - Digital Payment  12.0   1.8   \n",
       "2455799     290  Standard  Home Delivery - Digital Payment  12.0   1.8   \n",
       "\n",
       "         unit_price purchase_date    magic_key  box_count  \n",
       "0              9.96      4/2/2019  2C88D36D1FC        1.0  \n",
       "1             11.96      2/1/2019  2BF011BDB38        1.0  \n",
       "2             11.96      2/1/2019  2CA0EE8F2B3        1.0  \n",
       "3             11.96      2/1/2019  2C623730B09        1.0  \n",
       "4             11.96      2/1/2019  2CA6CE1054F        1.0  \n",
       "...             ...           ...          ...        ...  \n",
       "2455795       15.96     18/2/2019  29149CE828C        1.0  \n",
       "2455796       19.98     20/2/2019  28FF7857D43        1.0  \n",
       "2455797       19.98      5/1/2019  28F675D813E        1.0  \n",
       "2455798       19.98     11/1/2019  29D99F43873        1.0  \n",
       "2455799       19.98    19/11/2018  28DCF9E5BB0        1.0  \n",
       "\n",
       "[2455800 rows x 9 columns]"
      ]
     },
     "execution_count": 17,
     "metadata": {},
     "output_type": "execute_result"
    }
   ],
   "source": [
    "merged_df"
   ]
  },
  {
   "cell_type": "code",
   "execution_count": 18,
   "id": "29c18791",
   "metadata": {
    "execution": {
     "iopub.execute_input": "2024-04-19T22:26:04.824644Z",
     "iopub.status.busy": "2024-04-19T22:26:04.823467Z",
     "iopub.status.idle": "2024-04-19T22:26:04.836597Z",
     "shell.execute_reply": "2024-04-19T22:26:04.835348Z"
    },
    "papermill": {
     "duration": 0.032299,
     "end_time": "2024-04-19T22:26:04.840002",
     "exception": false,
     "start_time": "2024-04-19T22:26:04.807703",
     "status": "completed"
    },
    "tags": []
   },
   "outputs": [
    {
     "name": "stdout",
     "output_type": "stream",
     "text": [
      "   box_id  quality      delivery_option  milk  meat  unit_price\n",
      "0       1  Premium  Home Delivery - CoD   0.0   2.7        9.96\n",
      "\n",
      "  purchase_date    magic_key  box_id  box_count\n",
      "0      1/2/2019  2CED678A247      12        1.0\n"
     ]
    }
   ],
   "source": [
    "print(box.head(1))\n",
    "print()\n",
    "print(purchase.head(1))"
   ]
  },
  {
   "cell_type": "code",
   "execution_count": 19,
   "id": "f49110ce",
   "metadata": {
    "execution": {
     "iopub.execute_input": "2024-04-19T22:26:04.873556Z",
     "iopub.status.busy": "2024-04-19T22:26:04.872312Z",
     "iopub.status.idle": "2024-04-19T22:26:04.897541Z",
     "shell.execute_reply": "2024-04-19T22:26:04.896612Z"
    },
    "papermill": {
     "duration": 0.04243,
     "end_time": "2024-04-19T22:26:04.899848",
     "exception": false,
     "start_time": "2024-04-19T22:26:04.857418",
     "status": "completed"
    },
    "tags": []
   },
   "outputs": [
    {
     "data": {
      "text/html": [
       "<div>\n",
       "<style scoped>\n",
       "    .dataframe tbody tr th:only-of-type {\n",
       "        vertical-align: middle;\n",
       "    }\n",
       "\n",
       "    .dataframe tbody tr th {\n",
       "        vertical-align: top;\n",
       "    }\n",
       "\n",
       "    .dataframe thead th {\n",
       "        text-align: right;\n",
       "    }\n",
       "</style>\n",
       "<table border=\"1\" class=\"dataframe\">\n",
       "  <thead>\n",
       "    <tr style=\"text-align: right;\">\n",
       "      <th></th>\n",
       "      <th>box_id</th>\n",
       "      <th>quality</th>\n",
       "      <th>delivery_option</th>\n",
       "      <th>milk</th>\n",
       "      <th>meat</th>\n",
       "      <th>unit_price</th>\n",
       "      <th>purchase_date</th>\n",
       "      <th>magic_key</th>\n",
       "      <th>box_count</th>\n",
       "    </tr>\n",
       "  </thead>\n",
       "  <tbody>\n",
       "    <tr>\n",
       "      <th>71380</th>\n",
       "      <td>12</td>\n",
       "      <td>Premium</td>\n",
       "      <td>Home Delivery - CoD</td>\n",
       "      <td>8.0</td>\n",
       "      <td>1.5</td>\n",
       "      <td>12.98</td>\n",
       "      <td>1/2/2019</td>\n",
       "      <td>2CED678A247</td>\n",
       "      <td>1.0</td>\n",
       "    </tr>\n",
       "    <tr>\n",
       "      <th>71381</th>\n",
       "      <td>12</td>\n",
       "      <td>Premium</td>\n",
       "      <td>Home Delivery - CoD</td>\n",
       "      <td>8.0</td>\n",
       "      <td>1.5</td>\n",
       "      <td>12.98</td>\n",
       "      <td>1/2/2019</td>\n",
       "      <td>2BF58D91BA1</td>\n",
       "      <td>1.0</td>\n",
       "    </tr>\n",
       "    <tr>\n",
       "      <th>71382</th>\n",
       "      <td>12</td>\n",
       "      <td>Premium</td>\n",
       "      <td>Home Delivery - CoD</td>\n",
       "      <td>8.0</td>\n",
       "      <td>1.5</td>\n",
       "      <td>12.98</td>\n",
       "      <td>1/2/2019</td>\n",
       "      <td>2C3A3F7DB65</td>\n",
       "      <td>1.0</td>\n",
       "    </tr>\n",
       "    <tr>\n",
       "      <th>71383</th>\n",
       "      <td>12</td>\n",
       "      <td>Premium</td>\n",
       "      <td>Home Delivery - CoD</td>\n",
       "      <td>8.0</td>\n",
       "      <td>1.5</td>\n",
       "      <td>12.98</td>\n",
       "      <td>1/2/2019</td>\n",
       "      <td>2BD2641961A</td>\n",
       "      <td>1.0</td>\n",
       "    </tr>\n",
       "    <tr>\n",
       "      <th>71384</th>\n",
       "      <td>12</td>\n",
       "      <td>Premium</td>\n",
       "      <td>Home Delivery - CoD</td>\n",
       "      <td>8.0</td>\n",
       "      <td>1.5</td>\n",
       "      <td>12.98</td>\n",
       "      <td>1/2/2019</td>\n",
       "      <td>2BD2EAA1C90</td>\n",
       "      <td>1.0</td>\n",
       "    </tr>\n",
       "    <tr>\n",
       "      <th>...</th>\n",
       "      <td>...</td>\n",
       "      <td>...</td>\n",
       "      <td>...</td>\n",
       "      <td>...</td>\n",
       "      <td>...</td>\n",
       "      <td>...</td>\n",
       "      <td>...</td>\n",
       "      <td>...</td>\n",
       "      <td>...</td>\n",
       "    </tr>\n",
       "    <tr>\n",
       "      <th>79627</th>\n",
       "      <td>12</td>\n",
       "      <td>Premium</td>\n",
       "      <td>Home Delivery - CoD</td>\n",
       "      <td>8.0</td>\n",
       "      <td>1.5</td>\n",
       "      <td>12.98</td>\n",
       "      <td>28/10/2018</td>\n",
       "      <td>2BCA02D99F8</td>\n",
       "      <td>1.0</td>\n",
       "    </tr>\n",
       "    <tr>\n",
       "      <th>79628</th>\n",
       "      <td>12</td>\n",
       "      <td>Premium</td>\n",
       "      <td>Home Delivery - CoD</td>\n",
       "      <td>8.0</td>\n",
       "      <td>1.5</td>\n",
       "      <td>12.98</td>\n",
       "      <td>28/10/2018</td>\n",
       "      <td>2BFA4F45A15</td>\n",
       "      <td>1.0</td>\n",
       "    </tr>\n",
       "    <tr>\n",
       "      <th>79629</th>\n",
       "      <td>12</td>\n",
       "      <td>Premium</td>\n",
       "      <td>Home Delivery - CoD</td>\n",
       "      <td>8.0</td>\n",
       "      <td>1.5</td>\n",
       "      <td>12.98</td>\n",
       "      <td>28/10/2018</td>\n",
       "      <td>2BE60E8E91E</td>\n",
       "      <td>1.0</td>\n",
       "    </tr>\n",
       "    <tr>\n",
       "      <th>79630</th>\n",
       "      <td>12</td>\n",
       "      <td>Premium</td>\n",
       "      <td>Home Delivery - CoD</td>\n",
       "      <td>8.0</td>\n",
       "      <td>1.5</td>\n",
       "      <td>12.98</td>\n",
       "      <td>28/10/2018</td>\n",
       "      <td>2BE0FCC2107</td>\n",
       "      <td>1.0</td>\n",
       "    </tr>\n",
       "    <tr>\n",
       "      <th>79631</th>\n",
       "      <td>12</td>\n",
       "      <td>Premium</td>\n",
       "      <td>Home Delivery - CoD</td>\n",
       "      <td>8.0</td>\n",
       "      <td>1.5</td>\n",
       "      <td>12.98</td>\n",
       "      <td>28/10/2018</td>\n",
       "      <td>2BD992B5538</td>\n",
       "      <td>1.0</td>\n",
       "    </tr>\n",
       "  </tbody>\n",
       "</table>\n",
       "<p>8252 rows × 9 columns</p>\n",
       "</div>"
      ],
      "text/plain": [
       "       box_id  quality      delivery_option  milk  meat  unit_price  \\\n",
       "71380      12  Premium  Home Delivery - CoD   8.0   1.5       12.98   \n",
       "71381      12  Premium  Home Delivery - CoD   8.0   1.5       12.98   \n",
       "71382      12  Premium  Home Delivery - CoD   8.0   1.5       12.98   \n",
       "71383      12  Premium  Home Delivery - CoD   8.0   1.5       12.98   \n",
       "71384      12  Premium  Home Delivery - CoD   8.0   1.5       12.98   \n",
       "...       ...      ...                  ...   ...   ...         ...   \n",
       "79627      12  Premium  Home Delivery - CoD   8.0   1.5       12.98   \n",
       "79628      12  Premium  Home Delivery - CoD   8.0   1.5       12.98   \n",
       "79629      12  Premium  Home Delivery - CoD   8.0   1.5       12.98   \n",
       "79630      12  Premium  Home Delivery - CoD   8.0   1.5       12.98   \n",
       "79631      12  Premium  Home Delivery - CoD   8.0   1.5       12.98   \n",
       "\n",
       "      purchase_date    magic_key  box_count  \n",
       "71380      1/2/2019  2CED678A247        1.0  \n",
       "71381      1/2/2019  2BF58D91BA1        1.0  \n",
       "71382      1/2/2019  2C3A3F7DB65        1.0  \n",
       "71383      1/2/2019  2BD2641961A        1.0  \n",
       "71384      1/2/2019  2BD2EAA1C90        1.0  \n",
       "...             ...          ...        ...  \n",
       "79627    28/10/2018  2BCA02D99F8        1.0  \n",
       "79628    28/10/2018  2BFA4F45A15        1.0  \n",
       "79629    28/10/2018  2BE60E8E91E        1.0  \n",
       "79630    28/10/2018  2BE0FCC2107        1.0  \n",
       "79631    28/10/2018  2BD992B5538        1.0  \n",
       "\n",
       "[8252 rows x 9 columns]"
      ]
     },
     "execution_count": 19,
     "metadata": {},
     "output_type": "execute_result"
    }
   ],
   "source": [
    "filt = merged_df[merged_df['box_id'] == 12]\n",
    "filt"
   ]
  },
  {
   "cell_type": "code",
   "execution_count": 20,
   "id": "043006a9",
   "metadata": {
    "execution": {
     "iopub.execute_input": "2024-04-19T22:26:04.930909Z",
     "iopub.status.busy": "2024-04-19T22:26:04.930218Z",
     "iopub.status.idle": "2024-04-19T22:26:04.943085Z",
     "shell.execute_reply": "2024-04-19T22:26:04.942118Z"
    },
    "papermill": {
     "duration": 0.031827,
     "end_time": "2024-04-19T22:26:04.945489",
     "exception": false,
     "start_time": "2024-04-19T22:26:04.913662",
     "status": "completed"
    },
    "tags": []
   },
   "outputs": [
    {
     "data": {
      "text/html": [
       "<div>\n",
       "<style scoped>\n",
       "    .dataframe tbody tr th:only-of-type {\n",
       "        vertical-align: middle;\n",
       "    }\n",
       "\n",
       "    .dataframe tbody tr th {\n",
       "        vertical-align: top;\n",
       "    }\n",
       "\n",
       "    .dataframe thead th {\n",
       "        text-align: right;\n",
       "    }\n",
       "</style>\n",
       "<table border=\"1\" class=\"dataframe\">\n",
       "  <thead>\n",
       "    <tr style=\"text-align: right;\">\n",
       "      <th></th>\n",
       "      <th>box_id</th>\n",
       "      <th>quality</th>\n",
       "      <th>delivery_option</th>\n",
       "      <th>milk</th>\n",
       "      <th>meat</th>\n",
       "      <th>unit_price</th>\n",
       "    </tr>\n",
       "  </thead>\n",
       "  <tbody>\n",
       "    <tr>\n",
       "      <th>11</th>\n",
       "      <td>12</td>\n",
       "      <td>Premium</td>\n",
       "      <td>Home Delivery - CoD</td>\n",
       "      <td>8.0</td>\n",
       "      <td>1.5</td>\n",
       "      <td>12.98</td>\n",
       "    </tr>\n",
       "  </tbody>\n",
       "</table>\n",
       "</div>"
      ],
      "text/plain": [
       "    box_id  quality      delivery_option  milk  meat  unit_price\n",
       "11      12  Premium  Home Delivery - CoD   8.0   1.5       12.98"
      ]
     },
     "execution_count": 20,
     "metadata": {},
     "output_type": "execute_result"
    }
   ],
   "source": [
    "filt = box[box['box_id'] == 12]\n",
    "filt"
   ]
  },
  {
   "cell_type": "code",
   "execution_count": 21,
   "id": "ccaf8b48",
   "metadata": {
    "execution": {
     "iopub.execute_input": "2024-04-19T22:26:05.041768Z",
     "iopub.status.busy": "2024-04-19T22:26:05.041120Z",
     "iopub.status.idle": "2024-04-19T22:26:07.084272Z",
     "shell.execute_reply": "2024-04-19T22:26:07.083437Z"
    },
    "papermill": {
     "duration": 2.126869,
     "end_time": "2024-04-19T22:26:07.086435",
     "exception": false,
     "start_time": "2024-04-19T22:26:04.959566",
     "status": "completed"
    },
    "tags": []
   },
   "outputs": [
    {
     "data": {
      "text/plain": [
       "box_id                 290\n",
       "quality                  2\n",
       "delivery_option          3\n",
       "milk                    28\n",
       "meat                    39\n",
       "unit_price              18\n",
       "purchase_date          151\n",
       "magic_key          1274087\n",
       "box_count               13\n",
       "dtype: int64"
      ]
     },
     "execution_count": 21,
     "metadata": {},
     "output_type": "execute_result"
    }
   ],
   "source": [
    "merged_df.nunique()"
   ]
  },
  {
   "cell_type": "code",
   "execution_count": 22,
   "id": "4142200e",
   "metadata": {
    "execution": {
     "iopub.execute_input": "2024-04-19T22:26:07.116995Z",
     "iopub.status.busy": "2024-04-19T22:26:07.116261Z",
     "iopub.status.idle": "2024-04-19T22:26:10.846740Z",
     "shell.execute_reply": "2024-04-19T22:26:10.845596Z"
    },
    "papermill": {
     "duration": 3.748929,
     "end_time": "2024-04-19T22:26:10.849485",
     "exception": false,
     "start_time": "2024-04-19T22:26:07.100556",
     "status": "completed"
    },
    "tags": []
   },
   "outputs": [
    {
     "data": {
      "text/plain": [
       "magic_key\n",
       "2CC2011C2DF    40\n",
       "28D251217BD    38\n",
       "2BFCB915234    36\n",
       "29D9005EBAD    35\n",
       "29F30296E7B    35\n",
       "               ..\n",
       "2C21BCBA33B     1\n",
       "2C788AA3F8C     1\n",
       "2C77781D4F9     1\n",
       "2CCC8C8F510     1\n",
       "28F675D813E     1\n",
       "Name: count, Length: 1274087, dtype: int64"
      ]
     },
     "execution_count": 22,
     "metadata": {},
     "output_type": "execute_result"
    }
   ],
   "source": [
    "merged_df.magic_key.value_counts()"
   ]
  },
  {
   "cell_type": "code",
   "execution_count": 23,
   "id": "e9c75d1b",
   "metadata": {
    "execution": {
     "iopub.execute_input": "2024-04-19T22:26:10.881168Z",
     "iopub.status.busy": "2024-04-19T22:26:10.880724Z",
     "iopub.status.idle": "2024-04-19T22:26:11.313162Z",
     "shell.execute_reply": "2024-04-19T22:26:11.312325Z"
    },
    "papermill": {
     "duration": 0.450646,
     "end_time": "2024-04-19T22:26:11.315212",
     "exception": false,
     "start_time": "2024-04-19T22:26:10.864566",
     "status": "completed"
    },
    "tags": []
   },
   "outputs": [
    {
     "data": {
      "text/html": [
       "<div>\n",
       "<style scoped>\n",
       "    .dataframe tbody tr th:only-of-type {\n",
       "        vertical-align: middle;\n",
       "    }\n",
       "\n",
       "    .dataframe tbody tr th {\n",
       "        vertical-align: top;\n",
       "    }\n",
       "\n",
       "    .dataframe thead th {\n",
       "        text-align: right;\n",
       "    }\n",
       "</style>\n",
       "<table border=\"1\" class=\"dataframe\">\n",
       "  <thead>\n",
       "    <tr style=\"text-align: right;\">\n",
       "      <th></th>\n",
       "      <th>box_id</th>\n",
       "      <th>quality</th>\n",
       "      <th>delivery_option</th>\n",
       "      <th>milk</th>\n",
       "      <th>meat</th>\n",
       "      <th>unit_price</th>\n",
       "      <th>purchase_date</th>\n",
       "      <th>magic_key</th>\n",
       "      <th>box_count</th>\n",
       "    </tr>\n",
       "  </thead>\n",
       "  <tbody>\n",
       "    <tr>\n",
       "      <th>2080886</th>\n",
       "      <td>248</td>\n",
       "      <td>Standard</td>\n",
       "      <td>Delivery from Collection Point</td>\n",
       "      <td>0.0</td>\n",
       "      <td>2.9</td>\n",
       "      <td>13.96</td>\n",
       "      <td>26/2/2019</td>\n",
       "      <td>28D5BB06356</td>\n",
       "      <td>1.0</td>\n",
       "    </tr>\n",
       "    <tr>\n",
       "      <th>2152257</th>\n",
       "      <td>255</td>\n",
       "      <td>Standard</td>\n",
       "      <td>Delivery from Collection Point</td>\n",
       "      <td>0.0</td>\n",
       "      <td>3.6</td>\n",
       "      <td>15.96</td>\n",
       "      <td>27/1/2019</td>\n",
       "      <td>28D5BB06356</td>\n",
       "      <td>1.0</td>\n",
       "    </tr>\n",
       "    <tr>\n",
       "      <th>2172020</th>\n",
       "      <td>255</td>\n",
       "      <td>Standard</td>\n",
       "      <td>Delivery from Collection Point</td>\n",
       "      <td>0.0</td>\n",
       "      <td>3.6</td>\n",
       "      <td>15.96</td>\n",
       "      <td>23/12/2018</td>\n",
       "      <td>28D5BB06356</td>\n",
       "      <td>1.0</td>\n",
       "    </tr>\n",
       "  </tbody>\n",
       "</table>\n",
       "</div>"
      ],
      "text/plain": [
       "         box_id   quality                 delivery_option  milk  meat  \\\n",
       "2080886     248  Standard  Delivery from Collection Point   0.0   2.9   \n",
       "2152257     255  Standard  Delivery from Collection Point   0.0   3.6   \n",
       "2172020     255  Standard  Delivery from Collection Point   0.0   3.6   \n",
       "\n",
       "         unit_price purchase_date    magic_key  box_count  \n",
       "2080886       13.96     26/2/2019  28D5BB06356        1.0  \n",
       "2152257       15.96     27/1/2019  28D5BB06356        1.0  \n",
       "2172020       15.96    23/12/2018  28D5BB06356        1.0  "
      ]
     },
     "execution_count": 23,
     "metadata": {},
     "output_type": "execute_result"
    }
   ],
   "source": [
    "filt = merged_df[merged_df['magic_key'] == '28D5BB06356']\n",
    "filt"
   ]
  },
  {
   "cell_type": "code",
   "execution_count": 24,
   "id": "6497e943",
   "metadata": {
    "execution": {
     "iopub.execute_input": "2024-04-19T22:26:11.346840Z",
     "iopub.status.busy": "2024-04-19T22:26:11.345991Z",
     "iopub.status.idle": "2024-04-19T22:26:11.820053Z",
     "shell.execute_reply": "2024-04-19T22:26:11.818938Z"
    },
    "papermill": {
     "duration": 0.492577,
     "end_time": "2024-04-19T22:26:11.822489",
     "exception": false,
     "start_time": "2024-04-19T22:26:11.329912",
     "status": "completed"
    },
    "tags": []
   },
   "outputs": [
    {
     "data": {
      "text/plain": [
       "['2/2019', '1/2019', '1/2019', '1/2019', '1/2019']"
      ]
     },
     "execution_count": 24,
     "metadata": {},
     "output_type": "execute_result"
    }
   ],
   "source": [
    "xli = merged_df['purchase_date'].tolist()\n",
    "\n",
    "mxli = [d[2:] for d in xli]\n",
    "\n",
    "mxli[:5]"
   ]
  },
  {
   "cell_type": "code",
   "execution_count": 25,
   "id": "50d42be0",
   "metadata": {
    "execution": {
     "iopub.execute_input": "2024-04-19T22:26:11.854226Z",
     "iopub.status.busy": "2024-04-19T22:26:11.853770Z",
     "iopub.status.idle": "2024-04-19T22:26:11.858331Z",
     "shell.execute_reply": "2024-04-19T22:26:11.857213Z"
    },
    "papermill": {
     "duration": 0.022984,
     "end_time": "2024-04-19T22:26:11.860553",
     "exception": false,
     "start_time": "2024-04-19T22:26:11.837569",
     "status": "completed"
    },
    "tags": []
   },
   "outputs": [],
   "source": [
    "# merged_df['moy'] = mxli\n",
    "\n",
    "# merged_df.moy.value_counts()"
   ]
  },
  {
   "cell_type": "code",
   "execution_count": 26,
   "id": "9a5ccd8f",
   "metadata": {
    "execution": {
     "iopub.execute_input": "2024-04-19T22:26:11.892430Z",
     "iopub.status.busy": "2024-04-19T22:26:11.891394Z",
     "iopub.status.idle": "2024-04-19T22:26:11.895516Z",
     "shell.execute_reply": "2024-04-19T22:26:11.894811Z"
    },
    "papermill": {
     "duration": 0.022371,
     "end_time": "2024-04-19T22:26:11.897464",
     "exception": false,
     "start_time": "2024-04-19T22:26:11.875093",
     "status": "completed"
    },
    "tags": []
   },
   "outputs": [],
   "source": [
    "# merged_df.moy.value_counts().plot(kind='bar');\n",
    "# merged_df.drop(['moy'], axis=1,inplace=True)"
   ]
  },
  {
   "cell_type": "markdown",
   "id": "a5233ebb",
   "metadata": {
    "papermill": {
     "duration": 0.014027,
     "end_time": "2024-04-19T22:26:11.926326",
     "exception": false,
     "start_time": "2024-04-19T22:26:11.912299",
     "status": "completed"
    },
    "tags": []
   },
   "source": [
    "## Lets Submit"
   ]
  },
  {
   "cell_type": "code",
   "execution_count": 27,
   "id": "1e5a58c1",
   "metadata": {
    "execution": {
     "iopub.execute_input": "2024-04-19T22:26:11.956815Z",
     "iopub.status.busy": "2024-04-19T22:26:11.956357Z",
     "iopub.status.idle": "2024-04-19T22:26:11.964020Z",
     "shell.execute_reply": "2024-04-19T22:26:11.962994Z"
    },
    "papermill": {
     "duration": 0.025653,
     "end_time": "2024-04-19T22:26:11.966265",
     "exception": false,
     "start_time": "2024-04-19T22:26:11.940612",
     "status": "completed"
    },
    "tags": []
   },
   "outputs": [
    {
     "data": {
      "text/plain": [
       "['28D5BB06356', '293BEAB4E98', '2962EE8065C', '2957BE29EA9']"
      ]
     },
     "execution_count": 27,
     "metadata": {},
     "output_type": "execute_result"
    }
   ],
   "source": [
    "cli = prb1['MAGIC_KEY'].tolist()\n",
    "\n",
    "cli[:4]"
   ]
  },
  {
   "cell_type": "code",
   "execution_count": 28,
   "id": "5f9b4d3d",
   "metadata": {
    "execution": {
     "iopub.execute_input": "2024-04-19T22:26:11.998687Z",
     "iopub.status.busy": "2024-04-19T22:26:11.998274Z",
     "iopub.status.idle": "2024-04-19T22:26:12.893498Z",
     "shell.execute_reply": "2024-04-19T22:26:12.892216Z"
    },
    "papermill": {
     "duration": 0.914665,
     "end_time": "2024-04-19T22:26:12.895975",
     "exception": false,
     "start_time": "2024-04-19T22:26:11.981310",
     "status": "completed"
    },
    "tags": []
   },
   "outputs": [
    {
     "data": {
      "text/html": [
       "<div>\n",
       "<style scoped>\n",
       "    .dataframe tbody tr th:only-of-type {\n",
       "        vertical-align: middle;\n",
       "    }\n",
       "\n",
       "    .dataframe tbody tr th {\n",
       "        vertical-align: top;\n",
       "    }\n",
       "\n",
       "    .dataframe thead th {\n",
       "        text-align: right;\n",
       "    }\n",
       "</style>\n",
       "<table border=\"1\" class=\"dataframe\">\n",
       "  <thead>\n",
       "    <tr style=\"text-align: right;\">\n",
       "      <th></th>\n",
       "      <th>box_id</th>\n",
       "      <th>quality</th>\n",
       "      <th>delivery_option</th>\n",
       "      <th>milk</th>\n",
       "      <th>meat</th>\n",
       "      <th>unit_price</th>\n",
       "      <th>purchase_date</th>\n",
       "      <th>magic_key</th>\n",
       "      <th>box_count</th>\n",
       "    </tr>\n",
       "  </thead>\n",
       "  <tbody>\n",
       "    <tr>\n",
       "      <th>32388</th>\n",
       "      <td>8</td>\n",
       "      <td>Premium</td>\n",
       "      <td>Home Delivery - CoD</td>\n",
       "      <td>10.0</td>\n",
       "      <td>0.0</td>\n",
       "      <td>12.18</td>\n",
       "      <td>4/2/2019</td>\n",
       "      <td>24D82067E0B</td>\n",
       "      <td>1.0</td>\n",
       "    </tr>\n",
       "    <tr>\n",
       "      <th>32404</th>\n",
       "      <td>8</td>\n",
       "      <td>Premium</td>\n",
       "      <td>Home Delivery - CoD</td>\n",
       "      <td>10.0</td>\n",
       "      <td>0.0</td>\n",
       "      <td>12.18</td>\n",
       "      <td>4/2/2019</td>\n",
       "      <td>24D82068D27</td>\n",
       "      <td>1.0</td>\n",
       "    </tr>\n",
       "    <tr>\n",
       "      <th>34989</th>\n",
       "      <td>8</td>\n",
       "      <td>Premium</td>\n",
       "      <td>Home Delivery - CoD</td>\n",
       "      <td>10.0</td>\n",
       "      <td>0.0</td>\n",
       "      <td>12.18</td>\n",
       "      <td>4/1/2019</td>\n",
       "      <td>24D82067E0B</td>\n",
       "      <td>1.0</td>\n",
       "    </tr>\n",
       "    <tr>\n",
       "      <th>35041</th>\n",
       "      <td>8</td>\n",
       "      <td>Premium</td>\n",
       "      <td>Home Delivery - CoD</td>\n",
       "      <td>10.0</td>\n",
       "      <td>0.0</td>\n",
       "      <td>12.18</td>\n",
       "      <td>4/1/2019</td>\n",
       "      <td>24D82068D27</td>\n",
       "      <td>1.0</td>\n",
       "    </tr>\n",
       "    <tr>\n",
       "      <th>35306</th>\n",
       "      <td>8</td>\n",
       "      <td>Premium</td>\n",
       "      <td>Home Delivery - CoD</td>\n",
       "      <td>10.0</td>\n",
       "      <td>0.0</td>\n",
       "      <td>12.18</td>\n",
       "      <td>5/1/2019</td>\n",
       "      <td>24B595AB7CF</td>\n",
       "      <td>1.0</td>\n",
       "    </tr>\n",
       "    <tr>\n",
       "      <th>...</th>\n",
       "      <td>...</td>\n",
       "      <td>...</td>\n",
       "      <td>...</td>\n",
       "      <td>...</td>\n",
       "      <td>...</td>\n",
       "      <td>...</td>\n",
       "      <td>...</td>\n",
       "      <td>...</td>\n",
       "      <td>...</td>\n",
       "    </tr>\n",
       "    <tr>\n",
       "      <th>2455786</th>\n",
       "      <td>288</td>\n",
       "      <td>Standard</td>\n",
       "      <td>Home Delivery - Digital Payment</td>\n",
       "      <td>0.0</td>\n",
       "      <td>3.6</td>\n",
       "      <td>15.96</td>\n",
       "      <td>19/1/2019</td>\n",
       "      <td>28E5FB5E7BF</td>\n",
       "      <td>1.0</td>\n",
       "    </tr>\n",
       "    <tr>\n",
       "      <th>2455787</th>\n",
       "      <td>288</td>\n",
       "      <td>Standard</td>\n",
       "      <td>Home Delivery - Digital Payment</td>\n",
       "      <td>0.0</td>\n",
       "      <td>3.6</td>\n",
       "      <td>15.96</td>\n",
       "      <td>28/1/2019</td>\n",
       "      <td>28E10E2FEDE</td>\n",
       "      <td>1.0</td>\n",
       "    </tr>\n",
       "    <tr>\n",
       "      <th>2455788</th>\n",
       "      <td>288</td>\n",
       "      <td>Standard</td>\n",
       "      <td>Home Delivery - Digital Payment</td>\n",
       "      <td>0.0</td>\n",
       "      <td>3.6</td>\n",
       "      <td>15.96</td>\n",
       "      <td>14/12/2018</td>\n",
       "      <td>28E10E2FEDE</td>\n",
       "      <td>1.0</td>\n",
       "    </tr>\n",
       "    <tr>\n",
       "      <th>2455789</th>\n",
       "      <td>288</td>\n",
       "      <td>Standard</td>\n",
       "      <td>Home Delivery - Digital Payment</td>\n",
       "      <td>0.0</td>\n",
       "      <td>3.6</td>\n",
       "      <td>15.96</td>\n",
       "      <td>15/12/2018</td>\n",
       "      <td>28D9691954A</td>\n",
       "      <td>1.0</td>\n",
       "    </tr>\n",
       "    <tr>\n",
       "      <th>2455793</th>\n",
       "      <td>288</td>\n",
       "      <td>Standard</td>\n",
       "      <td>Home Delivery - Digital Payment</td>\n",
       "      <td>0.0</td>\n",
       "      <td>3.6</td>\n",
       "      <td>15.96</td>\n",
       "      <td>26/12/2018</td>\n",
       "      <td>28E10E2FEDE</td>\n",
       "      <td>1.0</td>\n",
       "    </tr>\n",
       "  </tbody>\n",
       "</table>\n",
       "<p>218602 rows × 9 columns</p>\n",
       "</div>"
      ],
      "text/plain": [
       "         box_id   quality                  delivery_option  milk  meat  \\\n",
       "32388         8   Premium              Home Delivery - CoD  10.0   0.0   \n",
       "32404         8   Premium              Home Delivery - CoD  10.0   0.0   \n",
       "34989         8   Premium              Home Delivery - CoD  10.0   0.0   \n",
       "35041         8   Premium              Home Delivery - CoD  10.0   0.0   \n",
       "35306         8   Premium              Home Delivery - CoD  10.0   0.0   \n",
       "...         ...       ...                              ...   ...   ...   \n",
       "2455786     288  Standard  Home Delivery - Digital Payment   0.0   3.6   \n",
       "2455787     288  Standard  Home Delivery - Digital Payment   0.0   3.6   \n",
       "2455788     288  Standard  Home Delivery - Digital Payment   0.0   3.6   \n",
       "2455789     288  Standard  Home Delivery - Digital Payment   0.0   3.6   \n",
       "2455793     288  Standard  Home Delivery - Digital Payment   0.0   3.6   \n",
       "\n",
       "         unit_price purchase_date    magic_key  box_count  \n",
       "32388         12.18      4/2/2019  24D82067E0B        1.0  \n",
       "32404         12.18      4/2/2019  24D82068D27        1.0  \n",
       "34989         12.18      4/1/2019  24D82067E0B        1.0  \n",
       "35041         12.18      4/1/2019  24D82068D27        1.0  \n",
       "35306         12.18      5/1/2019  24B595AB7CF        1.0  \n",
       "...             ...           ...          ...        ...  \n",
       "2455786       15.96     19/1/2019  28E5FB5E7BF        1.0  \n",
       "2455787       15.96     28/1/2019  28E10E2FEDE        1.0  \n",
       "2455788       15.96    14/12/2018  28E10E2FEDE        1.0  \n",
       "2455789       15.96    15/12/2018  28D9691954A        1.0  \n",
       "2455793       15.96    26/12/2018  28E10E2FEDE        1.0  \n",
       "\n",
       "[218602 rows x 9 columns]"
      ]
     },
     "execution_count": 28,
     "metadata": {},
     "output_type": "execute_result"
    }
   ],
   "source": [
    "fmerged = merged_df[merged_df['magic_key'].isin(cli)].copy()\n",
    "\n",
    "fmerged"
   ]
  },
  {
   "cell_type": "code",
   "execution_count": 29,
   "id": "329c6898",
   "metadata": {
    "execution": {
     "iopub.execute_input": "2024-04-19T22:26:12.930378Z",
     "iopub.status.busy": "2024-04-19T22:26:12.929980Z",
     "iopub.status.idle": "2024-04-19T22:26:12.938125Z",
     "shell.execute_reply": "2024-04-19T22:26:12.936711Z"
    },
    "papermill": {
     "duration": 0.029447,
     "end_time": "2024-04-19T22:26:12.941053",
     "exception": false,
     "start_time": "2024-04-19T22:26:12.911606",
     "status": "completed"
    },
    "tags": []
   },
   "outputs": [
    {
     "data": {
      "text/plain": [
       "((2455800, 9), (218602, 9))"
      ]
     },
     "execution_count": 29,
     "metadata": {},
     "output_type": "execute_result"
    }
   ],
   "source": [
    "merged_df.shape, fmerged.shape"
   ]
  },
  {
   "cell_type": "code",
   "execution_count": 30,
   "id": "060b745e",
   "metadata": {
    "execution": {
     "iopub.execute_input": "2024-04-19T22:26:12.974261Z",
     "iopub.status.busy": "2024-04-19T22:26:12.973853Z",
     "iopub.status.idle": "2024-04-19T22:26:12.994943Z",
     "shell.execute_reply": "2024-04-19T22:26:12.993420Z"
    },
    "papermill": {
     "duration": 0.041079,
     "end_time": "2024-04-19T22:26:12.997940",
     "exception": false,
     "start_time": "2024-04-19T22:26:12.956861",
     "status": "completed"
    },
    "tags": []
   },
   "outputs": [
    {
     "data": {
      "text/plain": [
       "quality\n",
       "Standard    218224\n",
       "Premium        378\n",
       "Name: count, dtype: int64"
      ]
     },
     "execution_count": 30,
     "metadata": {},
     "output_type": "execute_result"
    }
   ],
   "source": [
    "fmerged.quality.value_counts()"
   ]
  },
  {
   "cell_type": "code",
   "execution_count": 31,
   "id": "69f4b0b1",
   "metadata": {
    "execution": {
     "iopub.execute_input": "2024-04-19T22:26:13.031089Z",
     "iopub.status.busy": "2024-04-19T22:26:13.030668Z",
     "iopub.status.idle": "2024-04-19T22:26:13.109059Z",
     "shell.execute_reply": "2024-04-19T22:26:13.107397Z"
    },
    "papermill": {
     "duration": 0.097776,
     "end_time": "2024-04-19T22:26:13.111640",
     "exception": false,
     "start_time": "2024-04-19T22:26:13.013864",
     "status": "completed"
    },
    "tags": []
   },
   "outputs": [
    {
     "name": "stdout",
     "output_type": "stream",
     "text": [
      "{0: 'Premium', 1: 'Standard'}\n",
      "{0: 'Delivery from Collection Point', 1: 'Home Delivery - CoD', 2: 'Home Delivery - Digital Payment'}\n"
     ]
    }
   ],
   "source": [
    "fmerged['nquality'] = fmerged['quality'].astype('category').cat.codes\n",
    "fmerged['ndelivery'] = fmerged['delivery_option'].astype('category').cat.codes\n",
    "\n",
    "category_mapping = dict(enumerate(fmerged['quality'].astype('category').cat.categories))\n",
    "category_mapping2 = dict(enumerate(fmerged['delivery_option'].astype('category').cat.categories))\n",
    "\n",
    "print(category_mapping)\n",
    "\n",
    "print(category_mapping2)"
   ]
  },
  {
   "cell_type": "code",
   "execution_count": 32,
   "id": "84b2c545",
   "metadata": {
    "execution": {
     "iopub.execute_input": "2024-04-19T22:26:13.145277Z",
     "iopub.status.busy": "2024-04-19T22:26:13.144892Z",
     "iopub.status.idle": "2024-04-19T22:26:13.171455Z",
     "shell.execute_reply": "2024-04-19T22:26:13.170338Z"
    },
    "papermill": {
     "duration": 0.046064,
     "end_time": "2024-04-19T22:26:13.174176",
     "exception": false,
     "start_time": "2024-04-19T22:26:13.128112",
     "status": "completed"
    },
    "tags": []
   },
   "outputs": [],
   "source": [
    "fmerged.drop(['quality', 'delivery_option','box_id'], axis=1,inplace=True)"
   ]
  },
  {
   "cell_type": "code",
   "execution_count": 33,
   "id": "9aa00a8b",
   "metadata": {
    "execution": {
     "iopub.execute_input": "2024-04-19T22:26:13.207271Z",
     "iopub.status.busy": "2024-04-19T22:26:13.206879Z",
     "iopub.status.idle": "2024-04-19T22:26:13.221651Z",
     "shell.execute_reply": "2024-04-19T22:26:13.220471Z"
    },
    "papermill": {
     "duration": 0.034039,
     "end_time": "2024-04-19T22:26:13.223968",
     "exception": false,
     "start_time": "2024-04-19T22:26:13.189929",
     "status": "completed"
    },
    "tags": []
   },
   "outputs": [
    {
     "data": {
      "text/html": [
       "<div>\n",
       "<style scoped>\n",
       "    .dataframe tbody tr th:only-of-type {\n",
       "        vertical-align: middle;\n",
       "    }\n",
       "\n",
       "    .dataframe tbody tr th {\n",
       "        vertical-align: top;\n",
       "    }\n",
       "\n",
       "    .dataframe thead th {\n",
       "        text-align: right;\n",
       "    }\n",
       "</style>\n",
       "<table border=\"1\" class=\"dataframe\">\n",
       "  <thead>\n",
       "    <tr style=\"text-align: right;\">\n",
       "      <th></th>\n",
       "      <th>milk</th>\n",
       "      <th>meat</th>\n",
       "      <th>unit_price</th>\n",
       "      <th>purchase_date</th>\n",
       "      <th>magic_key</th>\n",
       "      <th>box_count</th>\n",
       "      <th>nquality</th>\n",
       "      <th>ndelivery</th>\n",
       "    </tr>\n",
       "  </thead>\n",
       "  <tbody>\n",
       "    <tr>\n",
       "      <th>0</th>\n",
       "      <td>10.0</td>\n",
       "      <td>0.0</td>\n",
       "      <td>12.18</td>\n",
       "      <td>4/2/2019</td>\n",
       "      <td>24D82067E0B</td>\n",
       "      <td>1.0</td>\n",
       "      <td>0</td>\n",
       "      <td>1</td>\n",
       "    </tr>\n",
       "    <tr>\n",
       "      <th>1</th>\n",
       "      <td>10.0</td>\n",
       "      <td>0.0</td>\n",
       "      <td>12.18</td>\n",
       "      <td>4/2/2019</td>\n",
       "      <td>24D82068D27</td>\n",
       "      <td>1.0</td>\n",
       "      <td>0</td>\n",
       "      <td>1</td>\n",
       "    </tr>\n",
       "  </tbody>\n",
       "</table>\n",
       "</div>"
      ],
      "text/plain": [
       "   milk  meat  unit_price purchase_date    magic_key  box_count  nquality  \\\n",
       "0  10.0   0.0       12.18      4/2/2019  24D82067E0B        1.0         0   \n",
       "1  10.0   0.0       12.18      4/2/2019  24D82068D27        1.0         0   \n",
       "\n",
       "   ndelivery  \n",
       "0          1  \n",
       "1          1  "
      ]
     },
     "execution_count": 33,
     "metadata": {},
     "output_type": "execute_result"
    }
   ],
   "source": [
    "fmerged.reset_index(drop=True, inplace=True)\n",
    "fmerged.head(2)"
   ]
  },
  {
   "cell_type": "code",
   "execution_count": 34,
   "id": "b1a0459a",
   "metadata": {
    "execution": {
     "iopub.execute_input": "2024-04-19T22:26:13.256678Z",
     "iopub.status.busy": "2024-04-19T22:26:13.256271Z",
     "iopub.status.idle": "2024-04-19T22:26:13.362682Z",
     "shell.execute_reply": "2024-04-19T22:26:13.361744Z"
    },
    "papermill": {
     "duration": 0.125435,
     "end_time": "2024-04-19T22:26:13.364889",
     "exception": false,
     "start_time": "2024-04-19T22:26:13.239454",
     "status": "completed"
    },
    "tags": []
   },
   "outputs": [
    {
     "data": {
      "text/html": [
       "<div>\n",
       "<style scoped>\n",
       "    .dataframe tbody tr th:only-of-type {\n",
       "        vertical-align: middle;\n",
       "    }\n",
       "\n",
       "    .dataframe tbody tr th {\n",
       "        vertical-align: top;\n",
       "    }\n",
       "\n",
       "    .dataframe thead th {\n",
       "        text-align: right;\n",
       "    }\n",
       "</style>\n",
       "<table border=\"1\" class=\"dataframe\">\n",
       "  <thead>\n",
       "    <tr style=\"text-align: right;\">\n",
       "      <th></th>\n",
       "      <th>milk</th>\n",
       "      <th>meat</th>\n",
       "      <th>unit_price</th>\n",
       "      <th>purchase_date</th>\n",
       "      <th>magic_key</th>\n",
       "      <th>box_count</th>\n",
       "      <th>nquality</th>\n",
       "      <th>ndelivery</th>\n",
       "      <th>day</th>\n",
       "    </tr>\n",
       "  </thead>\n",
       "  <tbody>\n",
       "    <tr>\n",
       "      <th>0</th>\n",
       "      <td>10.0</td>\n",
       "      <td>0.0</td>\n",
       "      <td>12.18</td>\n",
       "      <td>2019-02-04</td>\n",
       "      <td>24D82067E0B</td>\n",
       "      <td>1.0</td>\n",
       "      <td>0</td>\n",
       "      <td>1</td>\n",
       "      <td>4</td>\n",
       "    </tr>\n",
       "    <tr>\n",
       "      <th>1</th>\n",
       "      <td>10.0</td>\n",
       "      <td>0.0</td>\n",
       "      <td>12.18</td>\n",
       "      <td>2019-02-04</td>\n",
       "      <td>24D82068D27</td>\n",
       "      <td>1.0</td>\n",
       "      <td>0</td>\n",
       "      <td>1</td>\n",
       "      <td>4</td>\n",
       "    </tr>\n",
       "  </tbody>\n",
       "</table>\n",
       "</div>"
      ],
      "text/plain": [
       "   milk  meat  unit_price purchase_date    magic_key  box_count  nquality  \\\n",
       "0  10.0   0.0       12.18    2019-02-04  24D82067E0B        1.0         0   \n",
       "1  10.0   0.0       12.18    2019-02-04  24D82068D27        1.0         0   \n",
       "\n",
       "   ndelivery  day  \n",
       "0          1    4  \n",
       "1          1    4  "
      ]
     },
     "execution_count": 34,
     "metadata": {},
     "output_type": "execute_result"
    }
   ],
   "source": [
    "fmerged['purchase_date'] = pd.to_datetime(fmerged['purchase_date'], format='%d/%m/%Y')\n",
    "\n",
    "fmerged['day'] = fmerged['purchase_date'].dt.day\n",
    "\n",
    "fmerged.head(2)"
   ]
  },
  {
   "cell_type": "code",
   "execution_count": 35,
   "id": "3fa70ca1",
   "metadata": {
    "execution": {
     "iopub.execute_input": "2024-04-19T22:26:13.398133Z",
     "iopub.status.busy": "2024-04-19T22:26:13.397701Z",
     "iopub.status.idle": "2024-04-19T22:26:13.403050Z",
     "shell.execute_reply": "2024-04-19T22:26:13.401575Z"
    },
    "papermill": {
     "duration": 0.02462,
     "end_time": "2024-04-19T22:26:13.405468",
     "exception": false,
     "start_time": "2024-04-19T22:26:13.380848",
     "status": "completed"
    },
    "tags": []
   },
   "outputs": [],
   "source": [
    "exception = False"
   ]
  },
  {
   "cell_type": "code",
   "execution_count": 36,
   "id": "14b99571",
   "metadata": {
    "execution": {
     "iopub.execute_input": "2024-04-19T22:26:13.444915Z",
     "iopub.status.busy": "2024-04-19T22:26:13.444462Z",
     "iopub.status.idle": "2024-04-19T23:18:21.147319Z",
     "shell.execute_reply": "2024-04-19T23:18:21.145718Z"
    },
    "papermill": {
     "duration": 3127.728371,
     "end_time": "2024-04-19T23:18:21.150379",
     "exception": false,
     "start_time": "2024-04-19T22:26:13.422008",
     "status": "completed"
    },
    "tags": []
   },
   "outputs": [
    {
     "name": "stderr",
     "output_type": "stream",
     "text": [
      "100%|██████████| 58689/58689 [52:07<00:00, 18.76it/s]"
     ]
    },
    {
     "name": "stdout",
     "output_type": "stream",
     "text": [
      "True\n"
     ]
    },
    {
     "name": "stderr",
     "output_type": "stream",
     "text": [
      "\n"
     ]
    }
   ],
   "source": [
    "rli = []\n",
    "for i in tqdm(range(len(cli))):\n",
    "    temp = fmerged[fmerged['magic_key'] == cli[i]]['day'].tolist()\n",
    "#     print(temp)\n",
    "    if len(temp) >= 3:\n",
    "        if(np.mean(temp)) <= 15:\n",
    "            rli.append('Y')\n",
    "        else:\n",
    "            rli.append('N')  \n",
    "    else:\n",
    "        exception = True\n",
    "        rli.append('N')\n",
    "#     print(np.mean(temp))\n",
    "\n",
    "print(exception)"
   ]
  },
  {
   "cell_type": "code",
   "execution_count": 37,
   "id": "14b1f932",
   "metadata": {
    "execution": {
     "iopub.execute_input": "2024-04-19T23:18:25.261444Z",
     "iopub.status.busy": "2024-04-19T23:18:25.261040Z",
     "iopub.status.idle": "2024-04-19T23:18:25.268043Z",
     "shell.execute_reply": "2024-04-19T23:18:25.267240Z"
    },
    "papermill": {
     "duration": 1.957166,
     "end_time": "2024-04-19T23:18:25.269900",
     "exception": false,
     "start_time": "2024-04-19T23:18:23.312734",
     "status": "completed"
    },
    "tags": []
   },
   "outputs": [
    {
     "data": {
      "text/plain": [
       "['N', 'Y', 'N', 'N', 'N']"
      ]
     },
     "execution_count": 37,
     "metadata": {},
     "output_type": "execute_result"
    }
   ],
   "source": [
    "rli[:5]"
   ]
  },
  {
   "cell_type": "code",
   "execution_count": 38,
   "id": "d98d0815",
   "metadata": {
    "execution": {
     "iopub.execute_input": "2024-04-19T23:18:29.437904Z",
     "iopub.status.busy": "2024-04-19T23:18:29.437366Z",
     "iopub.status.idle": "2024-04-19T23:18:29.443429Z",
     "shell.execute_reply": "2024-04-19T23:18:29.442050Z"
    },
    "papermill": {
     "duration": 2.043926,
     "end_time": "2024-04-19T23:18:29.445909",
     "exception": false,
     "start_time": "2024-04-19T23:18:27.401983",
     "status": "completed"
    },
    "tags": []
   },
   "outputs": [
    {
     "name": "stdout",
     "output_type": "stream",
     "text": [
      "['N', 'Y', 'N', 'N', 'N', 'N', 'Y', 'N', 'N', 'N']\n"
     ]
    }
   ],
   "source": [
    "# # Group by 'magic_key' and calculate mean of 'day_of_purchase' for each group\n",
    "# avg_day_of_purchase = fmerged.groupby('magic_key')['day'].mean()\n",
    "\n",
    "# # Check if the average day of purchase is greater than 15\n",
    "# rli = ['Y' if avg <= 15 else 'N' for avg in avg_day_of_purchase]\n",
    "\n",
    "print(rli[:10])"
   ]
  },
  {
   "cell_type": "code",
   "execution_count": 39,
   "id": "3fe8a4be",
   "metadata": {
    "execution": {
     "iopub.execute_input": "2024-04-19T23:18:33.523909Z",
     "iopub.status.busy": "2024-04-19T23:18:33.523076Z",
     "iopub.status.idle": "2024-04-19T23:18:33.527189Z",
     "shell.execute_reply": "2024-04-19T23:18:33.526382Z"
    },
    "papermill": {
     "duration": 2.144117,
     "end_time": "2024-04-19T23:18:33.529227",
     "exception": false,
     "start_time": "2024-04-19T23:18:31.385110",
     "status": "completed"
    },
    "tags": []
   },
   "outputs": [],
   "source": [
    "# avg_day_of_purchase_sorted = avg_day_of_purchase.sort_values()\n",
    "\n",
    "# # Display the sorted Series\n",
    "# print(avg_day_of_purchase_sorted)"
   ]
  },
  {
   "cell_type": "code",
   "execution_count": 40,
   "id": "e924e06a",
   "metadata": {
    "execution": {
     "iopub.execute_input": "2024-04-19T23:18:37.617042Z",
     "iopub.status.busy": "2024-04-19T23:18:37.616622Z",
     "iopub.status.idle": "2024-04-19T23:18:37.621307Z",
     "shell.execute_reply": "2024-04-19T23:18:37.620335Z"
    },
    "papermill": {
     "duration": 1.979094,
     "end_time": "2024-04-19T23:18:37.623626",
     "exception": false,
     "start_time": "2024-04-19T23:18:35.644532",
     "status": "completed"
    },
    "tags": []
   },
   "outputs": [],
   "source": [
    "# avg_day_of_purchase.describe()"
   ]
  },
  {
   "cell_type": "code",
   "execution_count": 41,
   "id": "9111002b",
   "metadata": {
    "execution": {
     "iopub.execute_input": "2024-04-19T23:18:41.831624Z",
     "iopub.status.busy": "2024-04-19T23:18:41.831226Z",
     "iopub.status.idle": "2024-04-19T23:18:41.837473Z",
     "shell.execute_reply": "2024-04-19T23:18:41.836336Z"
    },
    "papermill": {
     "duration": 2.083699,
     "end_time": "2024-04-19T23:18:41.839471",
     "exception": false,
     "start_time": "2024-04-19T23:18:39.755772",
     "status": "completed"
    },
    "tags": []
   },
   "outputs": [
    {
     "data": {
      "text/plain": [
       "58689"
      ]
     },
     "execution_count": 41,
     "metadata": {},
     "output_type": "execute_result"
    }
   ],
   "source": [
    "len(rli)"
   ]
  },
  {
   "cell_type": "markdown",
   "id": "7674b75d",
   "metadata": {
    "papermill": {
     "duration": 2.148069,
     "end_time": "2024-04-19T23:18:45.959508",
     "exception": false,
     "start_time": "2024-04-19T23:18:43.811439",
     "status": "completed"
    },
    "tags": []
   },
   "source": [
    "## create submission"
   ]
  },
  {
   "cell_type": "code",
   "execution_count": 42,
   "id": "a68f9c59",
   "metadata": {
    "execution": {
     "iopub.execute_input": "2024-04-19T23:18:49.859413Z",
     "iopub.status.busy": "2024-04-19T23:18:49.859001Z",
     "iopub.status.idle": "2024-04-19T23:18:49.870608Z",
     "shell.execute_reply": "2024-04-19T23:18:49.869850Z"
    },
    "papermill": {
     "duration": 1.903207,
     "end_time": "2024-04-19T23:18:49.872744",
     "exception": false,
     "start_time": "2024-04-19T23:18:47.969537",
     "status": "completed"
    },
    "tags": []
   },
   "outputs": [
    {
     "data": {
      "text/html": [
       "<div>\n",
       "<style scoped>\n",
       "    .dataframe tbody tr th:only-of-type {\n",
       "        vertical-align: middle;\n",
       "    }\n",
       "\n",
       "    .dataframe tbody tr th {\n",
       "        vertical-align: top;\n",
       "    }\n",
       "\n",
       "    .dataframe thead th {\n",
       "        text-align: right;\n",
       "    }\n",
       "</style>\n",
       "<table border=\"1\" class=\"dataframe\">\n",
       "  <thead>\n",
       "    <tr style=\"text-align: right;\">\n",
       "      <th></th>\n",
       "      <th>MAGIC_KEY</th>\n",
       "    </tr>\n",
       "  </thead>\n",
       "  <tbody>\n",
       "    <tr>\n",
       "      <th>0</th>\n",
       "      <td>28D5BB06356</td>\n",
       "    </tr>\n",
       "    <tr>\n",
       "      <th>1</th>\n",
       "      <td>293BEAB4E98</td>\n",
       "    </tr>\n",
       "    <tr>\n",
       "      <th>2</th>\n",
       "      <td>2962EE8065C</td>\n",
       "    </tr>\n",
       "    <tr>\n",
       "      <th>3</th>\n",
       "      <td>2957BE29EA9</td>\n",
       "    </tr>\n",
       "    <tr>\n",
       "      <th>4</th>\n",
       "      <td>28E351A0745</td>\n",
       "    </tr>\n",
       "  </tbody>\n",
       "</table>\n",
       "</div>"
      ],
      "text/plain": [
       "     MAGIC_KEY\n",
       "0  28D5BB06356\n",
       "1  293BEAB4E98\n",
       "2  2962EE8065C\n",
       "3  2957BE29EA9\n",
       "4  28E351A0745"
      ]
     },
     "execution_count": 42,
     "metadata": {},
     "output_type": "execute_result"
    }
   ],
   "source": [
    "prb1.head(5)"
   ]
  },
  {
   "cell_type": "code",
   "execution_count": 43,
   "id": "d3c01a7d",
   "metadata": {
    "execution": {
     "iopub.execute_input": "2024-04-19T23:18:53.979739Z",
     "iopub.status.busy": "2024-04-19T23:18:53.978959Z",
     "iopub.status.idle": "2024-04-19T23:18:53.985474Z",
     "shell.execute_reply": "2024-04-19T23:18:53.984538Z"
    },
    "papermill": {
     "duration": 2.026232,
     "end_time": "2024-04-19T23:18:53.987411",
     "exception": false,
     "start_time": "2024-04-19T23:18:51.961179",
     "status": "completed"
    },
    "tags": []
   },
   "outputs": [
    {
     "data": {
      "text/plain": [
       "Index(['MAGIC_KEY', 'PURCHASE'], dtype='object')"
      ]
     },
     "execution_count": 43,
     "metadata": {},
     "output_type": "execute_result"
    }
   ],
   "source": [
    "sub.columns"
   ]
  },
  {
   "cell_type": "code",
   "execution_count": 44,
   "id": "619eb6bc",
   "metadata": {
    "execution": {
     "iopub.execute_input": "2024-04-19T23:18:58.088051Z",
     "iopub.status.busy": "2024-04-19T23:18:58.087617Z",
     "iopub.status.idle": "2024-04-19T23:18:58.103892Z",
     "shell.execute_reply": "2024-04-19T23:18:58.102967Z"
    },
    "papermill": {
     "duration": 2.179955,
     "end_time": "2024-04-19T23:18:58.106162",
     "exception": false,
     "start_time": "2024-04-19T23:18:55.926207",
     "status": "completed"
    },
    "tags": []
   },
   "outputs": [],
   "source": [
    "submission = pd.DataFrame({'MAGIC_KEY': cli, 'PURCHASE': rli})"
   ]
  },
  {
   "cell_type": "code",
   "execution_count": 45,
   "id": "34e40120",
   "metadata": {
    "execution": {
     "iopub.execute_input": "2024-04-19T23:19:02.043851Z",
     "iopub.status.busy": "2024-04-19T23:19:02.042957Z",
     "iopub.status.idle": "2024-04-19T23:19:02.055334Z",
     "shell.execute_reply": "2024-04-19T23:19:02.054233Z"
    },
    "papermill": {
     "duration": 1.921031,
     "end_time": "2024-04-19T23:19:02.057628",
     "exception": false,
     "start_time": "2024-04-19T23:19:00.136597",
     "status": "completed"
    },
    "tags": []
   },
   "outputs": [
    {
     "data": {
      "text/html": [
       "<div>\n",
       "<style scoped>\n",
       "    .dataframe tbody tr th:only-of-type {\n",
       "        vertical-align: middle;\n",
       "    }\n",
       "\n",
       "    .dataframe tbody tr th {\n",
       "        vertical-align: top;\n",
       "    }\n",
       "\n",
       "    .dataframe thead th {\n",
       "        text-align: right;\n",
       "    }\n",
       "</style>\n",
       "<table border=\"1\" class=\"dataframe\">\n",
       "  <thead>\n",
       "    <tr style=\"text-align: right;\">\n",
       "      <th></th>\n",
       "      <th>MAGIC_KEY</th>\n",
       "      <th>PURCHASE</th>\n",
       "    </tr>\n",
       "  </thead>\n",
       "  <tbody>\n",
       "    <tr>\n",
       "      <th>0</th>\n",
       "      <td>28D5BB06356</td>\n",
       "      <td>N</td>\n",
       "    </tr>\n",
       "    <tr>\n",
       "      <th>1</th>\n",
       "      <td>293BEAB4E98</td>\n",
       "      <td>Y</td>\n",
       "    </tr>\n",
       "    <tr>\n",
       "      <th>2</th>\n",
       "      <td>2962EE8065C</td>\n",
       "      <td>N</td>\n",
       "    </tr>\n",
       "    <tr>\n",
       "      <th>3</th>\n",
       "      <td>2957BE29EA9</td>\n",
       "      <td>N</td>\n",
       "    </tr>\n",
       "    <tr>\n",
       "      <th>4</th>\n",
       "      <td>28E351A0745</td>\n",
       "      <td>N</td>\n",
       "    </tr>\n",
       "    <tr>\n",
       "      <th>...</th>\n",
       "      <td>...</td>\n",
       "      <td>...</td>\n",
       "    </tr>\n",
       "    <tr>\n",
       "      <th>58684</th>\n",
       "      <td>28FB7C09776</td>\n",
       "      <td>N</td>\n",
       "    </tr>\n",
       "    <tr>\n",
       "      <th>58685</th>\n",
       "      <td>28E0E3B69BF</td>\n",
       "      <td>N</td>\n",
       "    </tr>\n",
       "    <tr>\n",
       "      <th>58686</th>\n",
       "      <td>28D343103A7</td>\n",
       "      <td>N</td>\n",
       "    </tr>\n",
       "    <tr>\n",
       "      <th>58687</th>\n",
       "      <td>290B1D6D5CB</td>\n",
       "      <td>N</td>\n",
       "    </tr>\n",
       "    <tr>\n",
       "      <th>58688</th>\n",
       "      <td>28FF193CB94</td>\n",
       "      <td>N</td>\n",
       "    </tr>\n",
       "  </tbody>\n",
       "</table>\n",
       "<p>58689 rows × 2 columns</p>\n",
       "</div>"
      ],
      "text/plain": [
       "         MAGIC_KEY PURCHASE\n",
       "0      28D5BB06356        N\n",
       "1      293BEAB4E98        Y\n",
       "2      2962EE8065C        N\n",
       "3      2957BE29EA9        N\n",
       "4      28E351A0745        N\n",
       "...            ...      ...\n",
       "58684  28FB7C09776        N\n",
       "58685  28E0E3B69BF        N\n",
       "58686  28D343103A7        N\n",
       "58687  290B1D6D5CB        N\n",
       "58688  28FF193CB94        N\n",
       "\n",
       "[58689 rows x 2 columns]"
      ]
     },
     "execution_count": 45,
     "metadata": {},
     "output_type": "execute_result"
    }
   ],
   "source": [
    "submission"
   ]
  },
  {
   "cell_type": "code",
   "execution_count": 46,
   "id": "a7531ae5",
   "metadata": {
    "execution": {
     "iopub.execute_input": "2024-04-19T23:19:06.225946Z",
     "iopub.status.busy": "2024-04-19T23:19:06.225506Z",
     "iopub.status.idle": "2024-04-19T23:19:06.286897Z",
     "shell.execute_reply": "2024-04-19T23:19:06.285712Z"
    },
    "papermill": {
     "duration": 2.111156,
     "end_time": "2024-04-19T23:19:06.289584",
     "exception": false,
     "start_time": "2024-04-19T23:19:04.178428",
     "status": "completed"
    },
    "tags": []
   },
   "outputs": [],
   "source": [
    "submission.to_csv('submission.csv', index=False)"
   ]
  }
 ],
 "metadata": {
  "kaggle": {
   "accelerator": "none",
   "dataSources": [
    {
     "databundleVersionId": 8266514,
     "sourceId": 75250,
     "sourceType": "competition"
    }
   ],
   "dockerImageVersionId": 30684,
   "isGpuEnabled": false,
   "isInternetEnabled": true,
   "language": "python",
   "sourceType": "notebook"
  },
  "kernelspec": {
   "display_name": "Python 3",
   "language": "python",
   "name": "python3"
  },
  "language_info": {
   "codemirror_mode": {
    "name": "ipython",
    "version": 3
   },
   "file_extension": ".py",
   "mimetype": "text/x-python",
   "name": "python",
   "nbconvert_exporter": "python",
   "pygments_lexer": "ipython3",
   "version": "3.10.13"
  },
  "papermill": {
   "default_parameters": {},
   "duration": 3202.006779,
   "end_time": "2024-04-19T23:19:09.719829",
   "environment_variables": {},
   "exception": null,
   "input_path": "__notebook__.ipynb",
   "output_path": "__notebook__.ipynb",
   "parameters": {},
   "start_time": "2024-04-19T22:25:47.713050",
   "version": "2.5.0"
  }
 },
 "nbformat": 4,
 "nbformat_minor": 5
}
